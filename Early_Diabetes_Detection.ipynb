{
  "cells": [
    {
      "cell_type": "markdown",
      "id": "85bd907a",
      "metadata": {
        "id": "85bd907a"
      },
      "source": [
        "# Import Libraries"
      ]
    },
    {
      "cell_type": "code",
      "execution_count": 4,
      "id": "f0352a64",
      "metadata": {
        "id": "f0352a64"
      },
      "outputs": [],
      "source": [
        "import warnings\n",
        "warnings.filterwarnings('ignore')\n",
        "\n",
        "import numpy as np\n",
        "import pandas as pd\n",
        "import matplotlib.pyplot as plt\n",
        "import matplotlib.patches as patches\n",
        "%matplotlib inline\n",
        "import seaborn as sns\n",
        "sns.set_style('darkgrid')\n",
        "from IPython.display import display, HTML\n",
        "\n",
        "from statsmodels.graphics.gofplots import qqplot\n",
        "from statsmodels.stats.weightstats import ztest\n",
        "# import scipy \n",
        "# from scipy.stats import chi2_contingency\n",
        "from scipy import stats\n",
        "from scipy import interp\n",
        "\n",
        "from collections import Counter\n",
        "from sklearn.pipeline import Pipeline\n",
        "from imblearn.pipeline import Pipeline as imbpipeline\n",
        "from pipelinehelper import PipelineHelper\n",
        "from sklearn.compose import ColumnTransformer\n",
        "from imblearn.over_sampling import SMOTE\n",
        "from imblearn.over_sampling import ADASYN\n",
        "from imblearn.combine import SMOTEENN\n",
        "from imblearn.combine import SMOTETomek\n",
        "from sklearn.preprocessing import LabelEncoder, OneHotEncoder\n",
        "from sklearn.preprocessing import MinMaxScaler\n",
        "from sklearn.model_selection import train_test_split\n",
        "\n",
        "from sklearn.metrics import recall_score, confusion_matrix, classification_report\n",
        "from sklearn.model_selection import StratifiedKFold,cross_val_score\n",
        "from sklearn.model_selection import GridSearchCV\n",
        "\n",
        "from sklearn.linear_model import LogisticRegression \n",
        "from sklearn.neighbors import KNeighborsClassifier  \n",
        "from sklearn.tree import DecisionTreeClassifier as DT \n",
        "from sklearn.ensemble import RandomForestClassifier as RF \n",
        "from sklearn.ensemble import AdaBoostClassifier\n",
        "from xgboost import XGBClassifier \n",
        "from sklearn.naive_bayes import GaussianNB as GB  \n",
        "from sklearn.svm import SVC   "
      ]
    },
    {
      "cell_type": "code",
      "execution_count": 5,
      "id": "cb8f4fbf",
      "metadata": {
        "id": "cb8f4fbf"
      },
      "outputs": [],
      "source": [
        "diabetes_df = pd.read_csv(\"https://raw.githubusercontent.com/jadanpl/Early-Diabetes-Detection-Using-Symptoms/main/diabetes_data.csv\")"
      ]
    },
    {
      "cell_type": "markdown",
      "id": "04d716b4",
      "metadata": {
        "id": "04d716b4"
      },
      "source": [
        "# Descriptive Statistics"
      ]
    },
    {
      "cell_type": "code",
      "execution_count": 6,
      "id": "bc1f695e",
      "metadata": {
        "colab": {
          "base_uri": "https://localhost:8080/"
        },
        "id": "bc1f695e",
        "outputId": "f724e219-d399-406b-cbfa-592949921e46"
      },
      "outputs": [
        {
          "name": "stdout",
          "output_type": "stream",
          "text": [
            "<class 'pandas.core.frame.DataFrame'>\n",
            "RangeIndex: 520 entries, 0 to 519\n",
            "Data columns (total 17 columns):\n",
            " #   Column              Non-Null Count  Dtype \n",
            "---  ------              --------------  ----- \n",
            " 0   Age                 520 non-null    int64 \n",
            " 1   Gender              520 non-null    object\n",
            " 2   Polyuria            520 non-null    object\n",
            " 3   Polydipsia          520 non-null    object\n",
            " 4   sudden weight loss  520 non-null    object\n",
            " 5   weakness            520 non-null    object\n",
            " 6   Polyphagia          520 non-null    object\n",
            " 7   Genital thrush      520 non-null    object\n",
            " 8   visual blurring     520 non-null    object\n",
            " 9   Itching             520 non-null    object\n",
            " 10  Irritability        520 non-null    object\n",
            " 11  delayed healing     520 non-null    object\n",
            " 12  partial paresis     520 non-null    object\n",
            " 13  muscle stiffness    520 non-null    object\n",
            " 14  Alopecia            520 non-null    object\n",
            " 15  Obesity             520 non-null    object\n",
            " 16  class               520 non-null    object\n",
            "dtypes: int64(1), object(16)\n",
            "memory usage: 69.2+ KB\n"
          ]
        }
      ],
      "source": [
        "diabetes_df.info()"
      ]
    },
    {
      "cell_type": "code",
      "execution_count": 7,
      "id": "b9117a32",
      "metadata": {
        "id": "b9117a32"
      },
      "outputs": [],
      "source": [
        "diabetes_df.columns = diabetes_df.columns.str.lower()"
      ]
    },
    {
      "cell_type": "code",
      "execution_count": 8,
      "id": "c4efd34e",
      "metadata": {
        "colab": {
          "base_uri": "https://localhost:8080/",
          "height": 304
        },
        "id": "c4efd34e",
        "outputId": "a678b8dc-d079-49bc-ca42-0aca1a91714e"
      },
      "outputs": [
        {
          "data": {
            "text/html": [
              "\n",
              "  <div id=\"df-31899387-ca11-4b99-aeb2-b39fb970e51c\">\n",
              "    <div class=\"colab-df-container\">\n",
              "      <div>\n",
              "<style scoped>\n",
              "    .dataframe tbody tr th:only-of-type {\n",
              "        vertical-align: middle;\n",
              "    }\n",
              "\n",
              "    .dataframe tbody tr th {\n",
              "        vertical-align: top;\n",
              "    }\n",
              "\n",
              "    .dataframe thead th {\n",
              "        text-align: right;\n",
              "    }\n",
              "</style>\n",
              "<table border=\"1\" class=\"dataframe\">\n",
              "  <thead>\n",
              "    <tr style=\"text-align: right;\">\n",
              "      <th></th>\n",
              "      <th>age</th>\n",
              "      <th>gender</th>\n",
              "      <th>polyuria</th>\n",
              "      <th>polydipsia</th>\n",
              "      <th>sudden weight loss</th>\n",
              "      <th>weakness</th>\n",
              "      <th>polyphagia</th>\n",
              "      <th>genital thrush</th>\n",
              "      <th>visual blurring</th>\n",
              "      <th>itching</th>\n",
              "      <th>irritability</th>\n",
              "      <th>delayed healing</th>\n",
              "      <th>partial paresis</th>\n",
              "      <th>muscle stiffness</th>\n",
              "      <th>alopecia</th>\n",
              "      <th>obesity</th>\n",
              "      <th>class</th>\n",
              "    </tr>\n",
              "  </thead>\n",
              "  <tbody>\n",
              "    <tr>\n",
              "      <th>54</th>\n",
              "      <td>51</td>\n",
              "      <td>Female</td>\n",
              "      <td>No</td>\n",
              "      <td>No</td>\n",
              "      <td>No</td>\n",
              "      <td>No</td>\n",
              "      <td>No</td>\n",
              "      <td>No</td>\n",
              "      <td>Yes</td>\n",
              "      <td>No</td>\n",
              "      <td>No</td>\n",
              "      <td>No</td>\n",
              "      <td>Yes</td>\n",
              "      <td>Yes</td>\n",
              "      <td>No</td>\n",
              "      <td>No</td>\n",
              "      <td>Positive</td>\n",
              "    </tr>\n",
              "    <tr>\n",
              "      <th>519</th>\n",
              "      <td>42</td>\n",
              "      <td>Male</td>\n",
              "      <td>No</td>\n",
              "      <td>No</td>\n",
              "      <td>No</td>\n",
              "      <td>No</td>\n",
              "      <td>No</td>\n",
              "      <td>No</td>\n",
              "      <td>No</td>\n",
              "      <td>No</td>\n",
              "      <td>No</td>\n",
              "      <td>No</td>\n",
              "      <td>No</td>\n",
              "      <td>No</td>\n",
              "      <td>No</td>\n",
              "      <td>No</td>\n",
              "      <td>Negative</td>\n",
              "    </tr>\n",
              "    <tr>\n",
              "      <th>480</th>\n",
              "      <td>46</td>\n",
              "      <td>Male</td>\n",
              "      <td>No</td>\n",
              "      <td>No</td>\n",
              "      <td>No</td>\n",
              "      <td>Yes</td>\n",
              "      <td>No</td>\n",
              "      <td>No</td>\n",
              "      <td>No</td>\n",
              "      <td>Yes</td>\n",
              "      <td>No</td>\n",
              "      <td>Yes</td>\n",
              "      <td>No</td>\n",
              "      <td>No</td>\n",
              "      <td>Yes</td>\n",
              "      <td>No</td>\n",
              "      <td>Negative</td>\n",
              "    </tr>\n",
              "    <tr>\n",
              "      <th>475</th>\n",
              "      <td>38</td>\n",
              "      <td>Male</td>\n",
              "      <td>No</td>\n",
              "      <td>No</td>\n",
              "      <td>No</td>\n",
              "      <td>No</td>\n",
              "      <td>No</td>\n",
              "      <td>No</td>\n",
              "      <td>No</td>\n",
              "      <td>No</td>\n",
              "      <td>No</td>\n",
              "      <td>No</td>\n",
              "      <td>No</td>\n",
              "      <td>No</td>\n",
              "      <td>No</td>\n",
              "      <td>No</td>\n",
              "      <td>Negative</td>\n",
              "    </tr>\n",
              "    <tr>\n",
              "      <th>193</th>\n",
              "      <td>36</td>\n",
              "      <td>Male</td>\n",
              "      <td>Yes</td>\n",
              "      <td>No</td>\n",
              "      <td>No</td>\n",
              "      <td>Yes</td>\n",
              "      <td>No</td>\n",
              "      <td>Yes</td>\n",
              "      <td>Yes</td>\n",
              "      <td>Yes</td>\n",
              "      <td>No</td>\n",
              "      <td>Yes</td>\n",
              "      <td>No</td>\n",
              "      <td>No</td>\n",
              "      <td>No</td>\n",
              "      <td>No</td>\n",
              "      <td>Positive</td>\n",
              "    </tr>\n",
              "  </tbody>\n",
              "</table>\n",
              "</div>\n",
              "      <button class=\"colab-df-convert\" onclick=\"convertToInteractive('df-31899387-ca11-4b99-aeb2-b39fb970e51c')\"\n",
              "              title=\"Convert this dataframe to an interactive table.\"\n",
              "              style=\"display:none;\">\n",
              "        \n",
              "  <svg xmlns=\"http://www.w3.org/2000/svg\" height=\"24px\"viewBox=\"0 0 24 24\"\n",
              "       width=\"24px\">\n",
              "    <path d=\"M0 0h24v24H0V0z\" fill=\"none\"/>\n",
              "    <path d=\"M18.56 5.44l.94 2.06.94-2.06 2.06-.94-2.06-.94-.94-2.06-.94 2.06-2.06.94zm-11 1L8.5 8.5l.94-2.06 2.06-.94-2.06-.94L8.5 2.5l-.94 2.06-2.06.94zm10 10l.94 2.06.94-2.06 2.06-.94-2.06-.94-.94-2.06-.94 2.06-2.06.94z\"/><path d=\"M17.41 7.96l-1.37-1.37c-.4-.4-.92-.59-1.43-.59-.52 0-1.04.2-1.43.59L10.3 9.45l-7.72 7.72c-.78.78-.78 2.05 0 2.83L4 21.41c.39.39.9.59 1.41.59.51 0 1.02-.2 1.41-.59l7.78-7.78 2.81-2.81c.8-.78.8-2.07 0-2.86zM5.41 20L4 18.59l7.72-7.72 1.47 1.35L5.41 20z\"/>\n",
              "  </svg>\n",
              "      </button>\n",
              "      \n",
              "  <style>\n",
              "    .colab-df-container {\n",
              "      display:flex;\n",
              "      flex-wrap:wrap;\n",
              "      gap: 12px;\n",
              "    }\n",
              "\n",
              "    .colab-df-convert {\n",
              "      background-color: #E8F0FE;\n",
              "      border: none;\n",
              "      border-radius: 50%;\n",
              "      cursor: pointer;\n",
              "      display: none;\n",
              "      fill: #1967D2;\n",
              "      height: 32px;\n",
              "      padding: 0 0 0 0;\n",
              "      width: 32px;\n",
              "    }\n",
              "\n",
              "    .colab-df-convert:hover {\n",
              "      background-color: #E2EBFA;\n",
              "      box-shadow: 0px 1px 2px rgba(60, 64, 67, 0.3), 0px 1px 3px 1px rgba(60, 64, 67, 0.15);\n",
              "      fill: #174EA6;\n",
              "    }\n",
              "\n",
              "    [theme=dark] .colab-df-convert {\n",
              "      background-color: #3B4455;\n",
              "      fill: #D2E3FC;\n",
              "    }\n",
              "\n",
              "    [theme=dark] .colab-df-convert:hover {\n",
              "      background-color: #434B5C;\n",
              "      box-shadow: 0px 1px 3px 1px rgba(0, 0, 0, 0.15);\n",
              "      filter: drop-shadow(0px 1px 2px rgba(0, 0, 0, 0.3));\n",
              "      fill: #FFFFFF;\n",
              "    }\n",
              "  </style>\n",
              "\n",
              "      <script>\n",
              "        const buttonEl =\n",
              "          document.querySelector('#df-31899387-ca11-4b99-aeb2-b39fb970e51c button.colab-df-convert');\n",
              "        buttonEl.style.display =\n",
              "          google.colab.kernel.accessAllowed ? 'block' : 'none';\n",
              "\n",
              "        async function convertToInteractive(key) {\n",
              "          const element = document.querySelector('#df-31899387-ca11-4b99-aeb2-b39fb970e51c');\n",
              "          const dataTable =\n",
              "            await google.colab.kernel.invokeFunction('convertToInteractive',\n",
              "                                                     [key], {});\n",
              "          if (!dataTable) return;\n",
              "\n",
              "          const docLinkHtml = 'Like what you see? Visit the ' +\n",
              "            '<a target=\"_blank\" href=https://colab.research.google.com/notebooks/data_table.ipynb>data table notebook</a>'\n",
              "            + ' to learn more about interactive tables.';\n",
              "          element.innerHTML = '';\n",
              "          dataTable['output_type'] = 'display_data';\n",
              "          await google.colab.output.renderOutput(dataTable, element);\n",
              "          const docLink = document.createElement('div');\n",
              "          docLink.innerHTML = docLinkHtml;\n",
              "          element.appendChild(docLink);\n",
              "        }\n",
              "      </script>\n",
              "    </div>\n",
              "  </div>\n",
              "  "
            ],
            "text/plain": [
              "     age  gender polyuria polydipsia sudden weight loss weakness polyphagia  \\\n",
              "54    51  Female       No         No                 No       No         No   \n",
              "519   42    Male       No         No                 No       No         No   \n",
              "480   46    Male       No         No                 No      Yes         No   \n",
              "475   38    Male       No         No                 No       No         No   \n",
              "193   36    Male      Yes         No                 No      Yes         No   \n",
              "\n",
              "    genital thrush visual blurring itching irritability delayed healing  \\\n",
              "54              No             Yes      No           No              No   \n",
              "519             No              No      No           No              No   \n",
              "480             No              No     Yes           No             Yes   \n",
              "475             No              No      No           No              No   \n",
              "193            Yes             Yes     Yes           No             Yes   \n",
              "\n",
              "    partial paresis muscle stiffness alopecia obesity     class  \n",
              "54              Yes              Yes       No      No  Positive  \n",
              "519              No               No       No      No  Negative  \n",
              "480              No               No      Yes      No  Negative  \n",
              "475              No               No       No      No  Negative  \n",
              "193              No               No       No      No  Positive  "
            ]
          },
          "execution_count": 8,
          "metadata": {},
          "output_type": "execute_result"
        }
      ],
      "source": [
        "diabetes_df.sample(5)"
      ]
    },
    {
      "cell_type": "code",
      "execution_count": 9,
      "id": "d952bb53",
      "metadata": {
        "colab": {
          "base_uri": "https://localhost:8080/",
          "height": 480
        },
        "id": "d952bb53",
        "outputId": "2bbd7c43-1c51-4b19-cebd-472134626edb"
      },
      "outputs": [
        {
          "data": {
            "text/html": [
              "<table border=\"1\" class=\"dataframe\">\n",
              "  <thead>\n",
              "    <tr>\n",
              "      <th></th>\n",
              "      <th colspan=\"17\" halign=\"left\">Positive</th>\n",
              "      <th colspan=\"17\" halign=\"left\">Negative</th>\n",
              "    </tr>\n",
              "    <tr>\n",
              "      <th></th>\n",
              "      <th>age</th>\n",
              "      <th>gender</th>\n",
              "      <th>polyuria</th>\n",
              "      <th>polydipsia</th>\n",
              "      <th>sudden weight loss</th>\n",
              "      <th>weakness</th>\n",
              "      <th>polyphagia</th>\n",
              "      <th>genital thrush</th>\n",
              "      <th>visual blurring</th>\n",
              "      <th>itching</th>\n",
              "      <th>irritability</th>\n",
              "      <th>delayed healing</th>\n",
              "      <th>partial paresis</th>\n",
              "      <th>muscle stiffness</th>\n",
              "      <th>alopecia</th>\n",
              "      <th>obesity</th>\n",
              "      <th>class</th>\n",
              "      <th>age</th>\n",
              "      <th>gender</th>\n",
              "      <th>polyuria</th>\n",
              "      <th>polydipsia</th>\n",
              "      <th>sudden weight loss</th>\n",
              "      <th>weakness</th>\n",
              "      <th>polyphagia</th>\n",
              "      <th>genital thrush</th>\n",
              "      <th>visual blurring</th>\n",
              "      <th>itching</th>\n",
              "      <th>irritability</th>\n",
              "      <th>delayed healing</th>\n",
              "      <th>partial paresis</th>\n",
              "      <th>muscle stiffness</th>\n",
              "      <th>alopecia</th>\n",
              "      <th>obesity</th>\n",
              "      <th>class</th>\n",
              "    </tr>\n",
              "  </thead>\n",
              "  <tbody>\n",
              "    <tr>\n",
              "      <th>count</th>\n",
              "      <td>320.00</td>\n",
              "      <td>320</td>\n",
              "      <td>320</td>\n",
              "      <td>320</td>\n",
              "      <td>320</td>\n",
              "      <td>320</td>\n",
              "      <td>320</td>\n",
              "      <td>320</td>\n",
              "      <td>320</td>\n",
              "      <td>320</td>\n",
              "      <td>320</td>\n",
              "      <td>320</td>\n",
              "      <td>320</td>\n",
              "      <td>320</td>\n",
              "      <td>320</td>\n",
              "      <td>320</td>\n",
              "      <td>320</td>\n",
              "      <td>200.00</td>\n",
              "      <td>200</td>\n",
              "      <td>200</td>\n",
              "      <td>200</td>\n",
              "      <td>200</td>\n",
              "      <td>200</td>\n",
              "      <td>200</td>\n",
              "      <td>200</td>\n",
              "      <td>200</td>\n",
              "      <td>200</td>\n",
              "      <td>200</td>\n",
              "      <td>200</td>\n",
              "      <td>200</td>\n",
              "      <td>200</td>\n",
              "      <td>200</td>\n",
              "      <td>200</td>\n",
              "      <td>200</td>\n",
              "    </tr>\n",
              "    <tr>\n",
              "      <th>unique</th>\n",
              "      <td>NaN</td>\n",
              "      <td>2</td>\n",
              "      <td>2</td>\n",
              "      <td>2</td>\n",
              "      <td>2</td>\n",
              "      <td>2</td>\n",
              "      <td>2</td>\n",
              "      <td>2</td>\n",
              "      <td>2</td>\n",
              "      <td>2</td>\n",
              "      <td>2</td>\n",
              "      <td>2</td>\n",
              "      <td>2</td>\n",
              "      <td>2</td>\n",
              "      <td>2</td>\n",
              "      <td>2</td>\n",
              "      <td>1</td>\n",
              "      <td>NaN</td>\n",
              "      <td>2</td>\n",
              "      <td>2</td>\n",
              "      <td>2</td>\n",
              "      <td>2</td>\n",
              "      <td>2</td>\n",
              "      <td>2</td>\n",
              "      <td>2</td>\n",
              "      <td>2</td>\n",
              "      <td>2</td>\n",
              "      <td>2</td>\n",
              "      <td>2</td>\n",
              "      <td>2</td>\n",
              "      <td>2</td>\n",
              "      <td>2</td>\n",
              "      <td>2</td>\n",
              "      <td>1</td>\n",
              "    </tr>\n",
              "    <tr>\n",
              "      <th>top</th>\n",
              "      <td>NaN</td>\n",
              "      <td>Female</td>\n",
              "      <td>Yes</td>\n",
              "      <td>Yes</td>\n",
              "      <td>Yes</td>\n",
              "      <td>Yes</td>\n",
              "      <td>Yes</td>\n",
              "      <td>No</td>\n",
              "      <td>Yes</td>\n",
              "      <td>No</td>\n",
              "      <td>No</td>\n",
              "      <td>No</td>\n",
              "      <td>Yes</td>\n",
              "      <td>No</td>\n",
              "      <td>No</td>\n",
              "      <td>No</td>\n",
              "      <td>Positive</td>\n",
              "      <td>NaN</td>\n",
              "      <td>Male</td>\n",
              "      <td>No</td>\n",
              "      <td>No</td>\n",
              "      <td>No</td>\n",
              "      <td>No</td>\n",
              "      <td>No</td>\n",
              "      <td>No</td>\n",
              "      <td>No</td>\n",
              "      <td>No</td>\n",
              "      <td>No</td>\n",
              "      <td>No</td>\n",
              "      <td>No</td>\n",
              "      <td>No</td>\n",
              "      <td>Yes</td>\n",
              "      <td>No</td>\n",
              "      <td>Negative</td>\n",
              "    </tr>\n",
              "    <tr>\n",
              "      <th>freq</th>\n",
              "      <td>NaN</td>\n",
              "      <td>173</td>\n",
              "      <td>243</td>\n",
              "      <td>225</td>\n",
              "      <td>188</td>\n",
              "      <td>218</td>\n",
              "      <td>189</td>\n",
              "      <td>237</td>\n",
              "      <td>175</td>\n",
              "      <td>166</td>\n",
              "      <td>210</td>\n",
              "      <td>167</td>\n",
              "      <td>192</td>\n",
              "      <td>185</td>\n",
              "      <td>242</td>\n",
              "      <td>259</td>\n",
              "      <td>320</td>\n",
              "      <td>NaN</td>\n",
              "      <td>181</td>\n",
              "      <td>185</td>\n",
              "      <td>192</td>\n",
              "      <td>171</td>\n",
              "      <td>113</td>\n",
              "      <td>152</td>\n",
              "      <td>167</td>\n",
              "      <td>142</td>\n",
              "      <td>101</td>\n",
              "      <td>184</td>\n",
              "      <td>114</td>\n",
              "      <td>168</td>\n",
              "      <td>140</td>\n",
              "      <td>101</td>\n",
              "      <td>173</td>\n",
              "      <td>200</td>\n",
              "    </tr>\n",
              "    <tr>\n",
              "      <th>mean</th>\n",
              "      <td>49.07</td>\n",
              "      <td>NaN</td>\n",
              "      <td>NaN</td>\n",
              "      <td>NaN</td>\n",
              "      <td>NaN</td>\n",
              "      <td>NaN</td>\n",
              "      <td>NaN</td>\n",
              "      <td>NaN</td>\n",
              "      <td>NaN</td>\n",
              "      <td>NaN</td>\n",
              "      <td>NaN</td>\n",
              "      <td>NaN</td>\n",
              "      <td>NaN</td>\n",
              "      <td>NaN</td>\n",
              "      <td>NaN</td>\n",
              "      <td>NaN</td>\n",
              "      <td>NaN</td>\n",
              "      <td>46.36</td>\n",
              "      <td>NaN</td>\n",
              "      <td>NaN</td>\n",
              "      <td>NaN</td>\n",
              "      <td>NaN</td>\n",
              "      <td>NaN</td>\n",
              "      <td>NaN</td>\n",
              "      <td>NaN</td>\n",
              "      <td>NaN</td>\n",
              "      <td>NaN</td>\n",
              "      <td>NaN</td>\n",
              "      <td>NaN</td>\n",
              "      <td>NaN</td>\n",
              "      <td>NaN</td>\n",
              "      <td>NaN</td>\n",
              "      <td>NaN</td>\n",
              "      <td>NaN</td>\n",
              "    </tr>\n",
              "    <tr>\n",
              "      <th>std</th>\n",
              "      <td>12.10</td>\n",
              "      <td>NaN</td>\n",
              "      <td>NaN</td>\n",
              "      <td>NaN</td>\n",
              "      <td>NaN</td>\n",
              "      <td>NaN</td>\n",
              "      <td>NaN</td>\n",
              "      <td>NaN</td>\n",
              "      <td>NaN</td>\n",
              "      <td>NaN</td>\n",
              "      <td>NaN</td>\n",
              "      <td>NaN</td>\n",
              "      <td>NaN</td>\n",
              "      <td>NaN</td>\n",
              "      <td>NaN</td>\n",
              "      <td>NaN</td>\n",
              "      <td>NaN</td>\n",
              "      <td>12.08</td>\n",
              "      <td>NaN</td>\n",
              "      <td>NaN</td>\n",
              "      <td>NaN</td>\n",
              "      <td>NaN</td>\n",
              "      <td>NaN</td>\n",
              "      <td>NaN</td>\n",
              "      <td>NaN</td>\n",
              "      <td>NaN</td>\n",
              "      <td>NaN</td>\n",
              "      <td>NaN</td>\n",
              "      <td>NaN</td>\n",
              "      <td>NaN</td>\n",
              "      <td>NaN</td>\n",
              "      <td>NaN</td>\n",
              "      <td>NaN</td>\n",
              "      <td>NaN</td>\n",
              "    </tr>\n",
              "    <tr>\n",
              "      <th>min</th>\n",
              "      <td>16.00</td>\n",
              "      <td>NaN</td>\n",
              "      <td>NaN</td>\n",
              "      <td>NaN</td>\n",
              "      <td>NaN</td>\n",
              "      <td>NaN</td>\n",
              "      <td>NaN</td>\n",
              "      <td>NaN</td>\n",
              "      <td>NaN</td>\n",
              "      <td>NaN</td>\n",
              "      <td>NaN</td>\n",
              "      <td>NaN</td>\n",
              "      <td>NaN</td>\n",
              "      <td>NaN</td>\n",
              "      <td>NaN</td>\n",
              "      <td>NaN</td>\n",
              "      <td>NaN</td>\n",
              "      <td>26.00</td>\n",
              "      <td>NaN</td>\n",
              "      <td>NaN</td>\n",
              "      <td>NaN</td>\n",
              "      <td>NaN</td>\n",
              "      <td>NaN</td>\n",
              "      <td>NaN</td>\n",
              "      <td>NaN</td>\n",
              "      <td>NaN</td>\n",
              "      <td>NaN</td>\n",
              "      <td>NaN</td>\n",
              "      <td>NaN</td>\n",
              "      <td>NaN</td>\n",
              "      <td>NaN</td>\n",
              "      <td>NaN</td>\n",
              "      <td>NaN</td>\n",
              "      <td>NaN</td>\n",
              "    </tr>\n",
              "    <tr>\n",
              "      <th>25%</th>\n",
              "      <td>39.00</td>\n",
              "      <td>NaN</td>\n",
              "      <td>NaN</td>\n",
              "      <td>NaN</td>\n",
              "      <td>NaN</td>\n",
              "      <td>NaN</td>\n",
              "      <td>NaN</td>\n",
              "      <td>NaN</td>\n",
              "      <td>NaN</td>\n",
              "      <td>NaN</td>\n",
              "      <td>NaN</td>\n",
              "      <td>NaN</td>\n",
              "      <td>NaN</td>\n",
              "      <td>NaN</td>\n",
              "      <td>NaN</td>\n",
              "      <td>NaN</td>\n",
              "      <td>NaN</td>\n",
              "      <td>37.00</td>\n",
              "      <td>NaN</td>\n",
              "      <td>NaN</td>\n",
              "      <td>NaN</td>\n",
              "      <td>NaN</td>\n",
              "      <td>NaN</td>\n",
              "      <td>NaN</td>\n",
              "      <td>NaN</td>\n",
              "      <td>NaN</td>\n",
              "      <td>NaN</td>\n",
              "      <td>NaN</td>\n",
              "      <td>NaN</td>\n",
              "      <td>NaN</td>\n",
              "      <td>NaN</td>\n",
              "      <td>NaN</td>\n",
              "      <td>NaN</td>\n",
              "      <td>NaN</td>\n",
              "    </tr>\n",
              "    <tr>\n",
              "      <th>50%</th>\n",
              "      <td>48.00</td>\n",
              "      <td>NaN</td>\n",
              "      <td>NaN</td>\n",
              "      <td>NaN</td>\n",
              "      <td>NaN</td>\n",
              "      <td>NaN</td>\n",
              "      <td>NaN</td>\n",
              "      <td>NaN</td>\n",
              "      <td>NaN</td>\n",
              "      <td>NaN</td>\n",
              "      <td>NaN</td>\n",
              "      <td>NaN</td>\n",
              "      <td>NaN</td>\n",
              "      <td>NaN</td>\n",
              "      <td>NaN</td>\n",
              "      <td>NaN</td>\n",
              "      <td>NaN</td>\n",
              "      <td>45.00</td>\n",
              "      <td>NaN</td>\n",
              "      <td>NaN</td>\n",
              "      <td>NaN</td>\n",
              "      <td>NaN</td>\n",
              "      <td>NaN</td>\n",
              "      <td>NaN</td>\n",
              "      <td>NaN</td>\n",
              "      <td>NaN</td>\n",
              "      <td>NaN</td>\n",
              "      <td>NaN</td>\n",
              "      <td>NaN</td>\n",
              "      <td>NaN</td>\n",
              "      <td>NaN</td>\n",
              "      <td>NaN</td>\n",
              "      <td>NaN</td>\n",
              "      <td>NaN</td>\n",
              "    </tr>\n",
              "    <tr>\n",
              "      <th>75%</th>\n",
              "      <td>57.00</td>\n",
              "      <td>NaN</td>\n",
              "      <td>NaN</td>\n",
              "      <td>NaN</td>\n",
              "      <td>NaN</td>\n",
              "      <td>NaN</td>\n",
              "      <td>NaN</td>\n",
              "      <td>NaN</td>\n",
              "      <td>NaN</td>\n",
              "      <td>NaN</td>\n",
              "      <td>NaN</td>\n",
              "      <td>NaN</td>\n",
              "      <td>NaN</td>\n",
              "      <td>NaN</td>\n",
              "      <td>NaN</td>\n",
              "      <td>NaN</td>\n",
              "      <td>NaN</td>\n",
              "      <td>55.00</td>\n",
              "      <td>NaN</td>\n",
              "      <td>NaN</td>\n",
              "      <td>NaN</td>\n",
              "      <td>NaN</td>\n",
              "      <td>NaN</td>\n",
              "      <td>NaN</td>\n",
              "      <td>NaN</td>\n",
              "      <td>NaN</td>\n",
              "      <td>NaN</td>\n",
              "      <td>NaN</td>\n",
              "      <td>NaN</td>\n",
              "      <td>NaN</td>\n",
              "      <td>NaN</td>\n",
              "      <td>NaN</td>\n",
              "      <td>NaN</td>\n",
              "      <td>NaN</td>\n",
              "    </tr>\n",
              "    <tr>\n",
              "      <th>max</th>\n",
              "      <td>90.00</td>\n",
              "      <td>NaN</td>\n",
              "      <td>NaN</td>\n",
              "      <td>NaN</td>\n",
              "      <td>NaN</td>\n",
              "      <td>NaN</td>\n",
              "      <td>NaN</td>\n",
              "      <td>NaN</td>\n",
              "      <td>NaN</td>\n",
              "      <td>NaN</td>\n",
              "      <td>NaN</td>\n",
              "      <td>NaN</td>\n",
              "      <td>NaN</td>\n",
              "      <td>NaN</td>\n",
              "      <td>NaN</td>\n",
              "      <td>NaN</td>\n",
              "      <td>NaN</td>\n",
              "      <td>72.00</td>\n",
              "      <td>NaN</td>\n",
              "      <td>NaN</td>\n",
              "      <td>NaN</td>\n",
              "      <td>NaN</td>\n",
              "      <td>NaN</td>\n",
              "      <td>NaN</td>\n",
              "      <td>NaN</td>\n",
              "      <td>NaN</td>\n",
              "      <td>NaN</td>\n",
              "      <td>NaN</td>\n",
              "      <td>NaN</td>\n",
              "      <td>NaN</td>\n",
              "      <td>NaN</td>\n",
              "      <td>NaN</td>\n",
              "      <td>NaN</td>\n",
              "      <td>NaN</td>\n",
              "    </tr>\n",
              "  </tbody>\n",
              "</table>"
            ],
            "text/plain": [
              "<IPython.core.display.HTML object>"
            ]
          },
          "metadata": {},
          "output_type": "display_data"
        }
      ],
      "source": [
        "pos = round(diabetes_df[diabetes_df['class']=='Positive'].describe(include='all'),2)\n",
        "neg = round(diabetes_df[diabetes_df['class']=='Negative'].describe(include='all'),2)\n",
        "pos_neg = pd.concat([pos, neg], axis=1, keys=['Positive','Negative'])\n",
        "with pd.option_context('display.max_columns', None):\n",
        "    display(HTML(pos_neg.to_html()))"
      ]
    },
    {
      "cell_type": "code",
      "execution_count": 10,
      "id": "2a5798ef",
      "metadata": {
        "colab": {
          "base_uri": "https://localhost:8080/",
          "height": 412
        },
        "id": "2a5798ef",
        "outputId": "e95a65cf-979a-498e-c7a9-b6b22c6646b4"
      },
      "outputs": [
        {
          "data": {
            "image/png": "[encoded data removed]",
            "text/plain": [
              "<Figure size 864x432 with 1 Axes>"
            ]
          },
          "metadata": {},
          "output_type": "display_data"
        }
      ],
      "source": [
        "plt.figure(figsize=(12,6))\n",
        "plt.hist(diabetes_df[diabetes_df['class']=='Positive']['age'], alpha=0.4, bins=np.arange(15, 90, 5),label='Have Diabetes')\n",
        "plt.hist(diabetes_df[diabetes_df['class']=='Negative']['age'], alpha=0.4, bins=np.arange(15, 90, 5),label='Have No Diabetes')\n",
        "plt.title('Frequency Distribution of Age',fontsize=18)\n",
        "plt.xlabel('age',fontsize=14)\n",
        "plt.ylabel('Count',fontsize=14)\n",
        "plt.legend();"
      ]
    },
    {
      "cell_type": "code",
      "execution_count": 11,
      "id": "2ddb69d7",
      "metadata": {
        "colab": {
          "base_uri": "https://localhost:8080/",
          "height": 336
        },
        "id": "2ddb69d7",
        "outputId": "4bbbe546-0e8d-4c4a-b9da-c9335b0a5f9f"
      },
      "outputs": [
        {
          "data": {
            "text/html": [
              "\n",
              "  <div id=\"df-fe000eac-ac0c-427e-8e57-3831900251ac\">\n",
              "    <div class=\"colab-df-container\">\n",
              "      <div>\n",
              "<style scoped>\n",
              "    .dataframe tbody tr th:only-of-type {\n",
              "        vertical-align: middle;\n",
              "    }\n",
              "\n",
              "    .dataframe tbody tr th {\n",
              "        vertical-align: top;\n",
              "    }\n",
              "\n",
              "    .dataframe thead th {\n",
              "        text-align: right;\n",
              "    }\n",
              "</style>\n",
              "<table border=\"1\" class=\"dataframe\">\n",
              "  <thead>\n",
              "    <tr style=\"text-align: right;\">\n",
              "      <th></th>\n",
              "      <th>age</th>\n",
              "      <th>gender</th>\n",
              "      <th>polyuria</th>\n",
              "      <th>polydipsia</th>\n",
              "      <th>sudden weight loss</th>\n",
              "      <th>weakness</th>\n",
              "      <th>polyphagia</th>\n",
              "      <th>genital thrush</th>\n",
              "      <th>visual blurring</th>\n",
              "      <th>itching</th>\n",
              "      <th>irritability</th>\n",
              "      <th>delayed healing</th>\n",
              "      <th>partial paresis</th>\n",
              "      <th>muscle stiffness</th>\n",
              "      <th>alopecia</th>\n",
              "      <th>obesity</th>\n",
              "      <th>class</th>\n",
              "    </tr>\n",
              "  </thead>\n",
              "  <tbody>\n",
              "    <tr>\n",
              "      <th>101</th>\n",
              "      <td>85</td>\n",
              "      <td>Male</td>\n",
              "      <td>Yes</td>\n",
              "      <td>Yes</td>\n",
              "      <td>Yes</td>\n",
              "      <td>Yes</td>\n",
              "      <td>Yes</td>\n",
              "      <td>Yes</td>\n",
              "      <td>Yes</td>\n",
              "      <td>Yes</td>\n",
              "      <td>No</td>\n",
              "      <td>Yes</td>\n",
              "      <td>Yes</td>\n",
              "      <td>Yes</td>\n",
              "      <td>No</td>\n",
              "      <td>No</td>\n",
              "      <td>Positive</td>\n",
              "    </tr>\n",
              "    <tr>\n",
              "      <th>102</th>\n",
              "      <td>90</td>\n",
              "      <td>Female</td>\n",
              "      <td>No</td>\n",
              "      <td>Yes</td>\n",
              "      <td>Yes</td>\n",
              "      <td>No</td>\n",
              "      <td>No</td>\n",
              "      <td>Yes</td>\n",
              "      <td>Yes</td>\n",
              "      <td>Yes</td>\n",
              "      <td>No</td>\n",
              "      <td>No</td>\n",
              "      <td>No</td>\n",
              "      <td>Yes</td>\n",
              "      <td>Yes</td>\n",
              "      <td>No</td>\n",
              "      <td>Positive</td>\n",
              "    </tr>\n",
              "    <tr>\n",
              "      <th>113</th>\n",
              "      <td>79</td>\n",
              "      <td>Male</td>\n",
              "      <td>No</td>\n",
              "      <td>Yes</td>\n",
              "      <td>Yes</td>\n",
              "      <td>Yes</td>\n",
              "      <td>Yes</td>\n",
              "      <td>Yes</td>\n",
              "      <td>No</td>\n",
              "      <td>Yes</td>\n",
              "      <td>Yes</td>\n",
              "      <td>No</td>\n",
              "      <td>Yes</td>\n",
              "      <td>No</td>\n",
              "      <td>No</td>\n",
              "      <td>No</td>\n",
              "      <td>Positive</td>\n",
              "    </tr>\n",
              "    <tr>\n",
              "      <th>133</th>\n",
              "      <td>16</td>\n",
              "      <td>Male</td>\n",
              "      <td>Yes</td>\n",
              "      <td>No</td>\n",
              "      <td>Yes</td>\n",
              "      <td>No</td>\n",
              "      <td>Yes</td>\n",
              "      <td>No</td>\n",
              "      <td>No</td>\n",
              "      <td>No</td>\n",
              "      <td>No</td>\n",
              "      <td>No</td>\n",
              "      <td>No</td>\n",
              "      <td>No</td>\n",
              "      <td>No</td>\n",
              "      <td>No</td>\n",
              "      <td>Positive</td>\n",
              "    </tr>\n",
              "    <tr>\n",
              "      <th>185</th>\n",
              "      <td>85</td>\n",
              "      <td>Male</td>\n",
              "      <td>Yes</td>\n",
              "      <td>Yes</td>\n",
              "      <td>Yes</td>\n",
              "      <td>Yes</td>\n",
              "      <td>Yes</td>\n",
              "      <td>Yes</td>\n",
              "      <td>Yes</td>\n",
              "      <td>Yes</td>\n",
              "      <td>No</td>\n",
              "      <td>Yes</td>\n",
              "      <td>Yes</td>\n",
              "      <td>Yes</td>\n",
              "      <td>No</td>\n",
              "      <td>No</td>\n",
              "      <td>Positive</td>\n",
              "    </tr>\n",
              "    <tr>\n",
              "      <th>186</th>\n",
              "      <td>90</td>\n",
              "      <td>Female</td>\n",
              "      <td>No</td>\n",
              "      <td>Yes</td>\n",
              "      <td>Yes</td>\n",
              "      <td>No</td>\n",
              "      <td>No</td>\n",
              "      <td>Yes</td>\n",
              "      <td>Yes</td>\n",
              "      <td>Yes</td>\n",
              "      <td>No</td>\n",
              "      <td>No</td>\n",
              "      <td>No</td>\n",
              "      <td>Yes</td>\n",
              "      <td>Yes</td>\n",
              "      <td>No</td>\n",
              "      <td>Positive</td>\n",
              "    </tr>\n",
              "  </tbody>\n",
              "</table>\n",
              "</div>\n",
              "      <button class=\"colab-df-convert\" onclick=\"convertToInteractive('df-fe000eac-ac0c-427e-8e57-3831900251ac')\"\n",
              "              title=\"Convert this dataframe to an interactive table.\"\n",
              "              style=\"display:none;\">\n",
              "        \n",
              "  <svg xmlns=\"http://www.w3.org/2000/svg\" height=\"24px\"viewBox=\"0 0 24 24\"\n",
              "       width=\"24px\">\n",
              "    <path d=\"M0 0h24v24H0V0z\" fill=\"none\"/>\n",
              "    <path d=\"M18.56 5.44l.94 2.06.94-2.06 2.06-.94-2.06-.94-.94-2.06-.94 2.06-2.06.94zm-11 1L8.5 8.5l.94-2.06 2.06-.94-2.06-.94L8.5 2.5l-.94 2.06-2.06.94zm10 10l.94 2.06.94-2.06 2.06-.94-2.06-.94-.94-2.06-.94 2.06-2.06.94z\"/><path d=\"M17.41 7.96l-1.37-1.37c-.4-.4-.92-.59-1.43-.59-.52 0-1.04.2-1.43.59L10.3 9.45l-7.72 7.72c-.78.78-.78 2.05 0 2.83L4 21.41c.39.39.9.59 1.41.59.51 0 1.02-.2 1.41-.59l7.78-7.78 2.81-2.81c.8-.78.8-2.07 0-2.86zM5.41 20L4 18.59l7.72-7.72 1.47 1.35L5.41 20z\"/>\n",
              "  </svg>\n",
              "      </button>\n",
              "      \n",
              "  <style>\n",
              "    .colab-df-container {\n",
              "      display:flex;\n",
              "      flex-wrap:wrap;\n",
              "      gap: 12px;\n",
              "    }\n",
              "\n",
              "    .colab-df-convert {\n",
              "      background-color: #E8F0FE;\n",
              "      border: none;\n",
              "      border-radius: 50%;\n",
              "      cursor: pointer;\n",
              "      display: none;\n",
              "      fill: #1967D2;\n",
              "      height: 32px;\n",
              "      padding: 0 0 0 0;\n",
              "      width: 32px;\n",
              "    }\n",
              "\n",
              "    .colab-df-convert:hover {\n",
              "      background-color: #E2EBFA;\n",
              "      box-shadow: 0px 1px 2px rgba(60, 64, 67, 0.3), 0px 1px 3px 1px rgba(60, 64, 67, 0.15);\n",
              "      fill: #174EA6;\n",
              "    }\n",
              "\n",
              "    [theme=dark] .colab-df-convert {\n",
              "      background-color: #3B4455;\n",
              "      fill: #D2E3FC;\n",
              "    }\n",
              "\n",
              "    [theme=dark] .colab-df-convert:hover {\n",
              "      background-color: #434B5C;\n",
              "      box-shadow: 0px 1px 3px 1px rgba(0, 0, 0, 0.15);\n",
              "      filter: drop-shadow(0px 1px 2px rgba(0, 0, 0, 0.3));\n",
              "      fill: #FFFFFF;\n",
              "    }\n",
              "  </style>\n",
              "\n",
              "      <script>\n",
              "        const buttonEl =\n",
              "          document.querySelector('#df-fe000eac-ac0c-427e-8e57-3831900251ac button.colab-df-convert');\n",
              "        buttonEl.style.display =\n",
              "          google.colab.kernel.accessAllowed ? 'block' : 'none';\n",
              "\n",
              "        async function convertToInteractive(key) {\n",
              "          const element = document.querySelector('#df-fe000eac-ac0c-427e-8e57-3831900251ac');\n",
              "          const dataTable =\n",
              "            await google.colab.kernel.invokeFunction('convertToInteractive',\n",
              "                                                     [key], {});\n",
              "          if (!dataTable) return;\n",
              "\n",
              "          const docLinkHtml = 'Like what you see? Visit the ' +\n",
              "            '<a target=\"_blank\" href=https://colab.research.google.com/notebooks/data_table.ipynb>data table notebook</a>'\n",
              "            + ' to learn more about interactive tables.';\n",
              "          element.innerHTML = '';\n",
              "          dataTable['output_type'] = 'display_data';\n",
              "          await google.colab.output.renderOutput(dataTable, element);\n",
              "          const docLink = document.createElement('div');\n",
              "          docLink.innerHTML = docLinkHtml;\n",
              "          element.appendChild(docLink);\n",
              "        }\n",
              "      </script>\n",
              "    </div>\n",
              "  </div>\n",
              "  "
            ],
            "text/plain": [
              "     age  gender polyuria polydipsia sudden weight loss weakness polyphagia  \\\n",
              "101   85    Male      Yes        Yes                Yes      Yes        Yes   \n",
              "102   90  Female       No        Yes                Yes       No         No   \n",
              "113   79    Male       No        Yes                Yes      Yes        Yes   \n",
              "133   16    Male      Yes         No                Yes       No        Yes   \n",
              "185   85    Male      Yes        Yes                Yes      Yes        Yes   \n",
              "186   90  Female       No        Yes                Yes       No         No   \n",
              "\n",
              "    genital thrush visual blurring itching irritability delayed healing  \\\n",
              "101            Yes             Yes     Yes           No             Yes   \n",
              "102            Yes             Yes     Yes           No              No   \n",
              "113            Yes              No     Yes          Yes              No   \n",
              "133             No              No      No           No              No   \n",
              "185            Yes             Yes     Yes           No             Yes   \n",
              "186            Yes             Yes     Yes           No              No   \n",
              "\n",
              "    partial paresis muscle stiffness alopecia obesity     class  \n",
              "101             Yes              Yes       No      No  Positive  \n",
              "102              No              Yes      Yes      No  Positive  \n",
              "113             Yes               No       No      No  Positive  \n",
              "133              No               No       No      No  Positive  \n",
              "185             Yes              Yes       No      No  Positive  \n",
              "186              No              Yes      Yes      No  Positive  "
            ]
          },
          "execution_count": 11,
          "metadata": {},
          "output_type": "execute_result"
        }
      ],
      "source": [
        "diabetes_df[(diabetes_df['class']=='Positive') & (diabetes_df['age']<=20) | (diabetes_df['age']>=75)]"
      ]
    },
    {
      "cell_type": "code",
      "execution_count": 74,
      "id": "b9d022b4",
      "metadata": {
        "id": "b9d022b4"
      },
      "outputs": [],
      "source": [
        "# fig, ax = plt.subplots(figsize=(18,20), facecolor='#F2F4F4',constrained_layout=True)\n",
        "\n",
        "# count=1\n",
        "# for i in diabetes_df.columns[1:-1]:\n",
        "#     plt.subplot(5,3,count)\n",
        "#     abs_val = diabetes_df[i].value_counts(ascending=False)\n",
        "#     a = sns.countplot(diabetes_df[i], order=abs_val.index)\n",
        "#     rel_val = diabetes_df[i].value_counts(ascending=False, normalize=True).values*100\n",
        "#     lbs_val = [f\"{a[0]} ({a[1]:.2f}%)\" for a in zip(abs_val,rel_val)]\n",
        "#     a.bar_label(container = a.containers[0], labels = lbs_val, fontsize=8)\n",
        "#     plt.title(('number of respondents by ' + i).title(), fontsize=13)\n",
        "#     count+=1\n",
        "    \n",
        "# plt.suptitle('Univariate Analysis of Variables',fontsize=24);"
      ]
    },
    {
      "cell_type": "markdown",
      "id": "67d35f95",
      "metadata": {
        "id": "67d35f95"
      },
      "source": [
        "# Multivariate Analysis & Hypothesis Testing"
      ]
    },
    {
      "cell_type": "code",
      "execution_count": 13,
      "id": "715e64e0",
      "metadata": {
        "id": "715e64e0"
      },
      "outputs": [],
      "source": [
        "labelencoder = LabelEncoder()\n",
        "for i in diabetes_df[1:]:\n",
        "    diabetes_df[i] = labelencoder.fit_transform(diabetes_df[i])"
      ]
    },
    {
      "cell_type": "code",
      "execution_count": 14,
      "id": "86d29945",
      "metadata": {
        "colab": {
          "base_uri": "https://localhost:8080/",
          "height": 915
        },
        "id": "86d29945",
        "outputId": "790e5b63-eb54-458b-eeef-6cf1127bcb69"
      },
      "outputs": [
        {
          "data": {
            "image/png": "[encoded data removed]",
            "text/plain": [
              "<Figure size 1152x1008 with 2 Axes>"
            ]
          },
          "metadata": {},
          "output_type": "display_data"
        }
      ],
      "source": [
        "plt.figure(figsize = (16,14))\n",
        "sns.heatmap(diabetes_df.corr(), annot=True, fmt='.2g',cmap='coolwarm')\n",
        "plt.title('Correlation Between Variables', fontsize=18);"
      ]
    },
    {
      "cell_type": "code",
      "execution_count": 15,
      "id": "be741312",
      "metadata": {
        "colab": {
          "base_uri": "https://localhost:8080/"
        },
        "id": "be741312",
        "outputId": "355aa9d4-cea7-4ab7-cd39-e9ceecc296fd"
      },
      "outputs": [
        {
          "data": {
            "text/plain": [
              "Chi2ContingencyResult(statistic=2.327473958333334, pvalue=0.12710799319896815, dof=1, expected_freq=array([[166.15384615, 265.84615385],\n",
              "       [ 33.84615385,  54.15384615]]))"
            ]
          },
          "execution_count": 15,
          "metadata": {},
          "output_type": "execute_result"
        }
      ],
      "source": [
        "diabetes_obesity_crosstab = pd.crosstab(diabetes_df['obesity'], diabetes_df['class'])\n",
        "Chisquares_diabetes_obesity = stats.chi2_contingency(diabetes_obesity_crosstab)\n",
        "Chisquares_diabetes_obesity"
      ]
    },
    {
      "cell_type": "code",
      "execution_count": 16,
      "id": "dc9cd17e",
      "metadata": {
        "colab": {
          "base_uri": "https://localhost:8080/"
        },
        "id": "dc9cd17e",
        "outputId": "45db7ec0-b83b-4551-a043-f7bb32168f95"
      },
      "outputs": [
        {
          "data": {
            "text/plain": [
              "Chi2ContingencyResult(statistic=103.03685927972559, pvalue=3.289703730553294e-24, dof=1, expected_freq=array([[ 73.84615385, 118.15384615],\n",
              "       [126.15384615, 201.84615385]]))"
            ]
          },
          "execution_count": 16,
          "metadata": {},
          "output_type": "execute_result"
        }
      ],
      "source": [
        "gender_obesity_crosstab = pd.crosstab(diabetes_df['gender'], diabetes_df['class'])\n",
        "Chisquares_gender_obesity = stats.chi2_contingency(gender_obesity_crosstab)\n",
        "Chisquares_gender_obesity"
      ]
    },
    {
      "cell_type": "code",
      "execution_count": 17,
      "id": "aea6dee0",
      "metadata": {
        "colab": {
          "base_uri": "https://localhost:8080/",
          "height": 280
        },
        "id": "aea6dee0",
        "outputId": "6cc4eebf-3d8d-4074-e6b2-b62639a799a8"
      },
      "outputs": [
        {
          "data": {
            "image/png": "[encoded data removed]",
            "text/plain": [
              "<Figure size 432x288 with 1 Axes>"
            ]
          },
          "metadata": {},
          "output_type": "display_data"
        }
      ],
      "source": [
        "qqplot(diabetes_df['age'],line='s')\n",
        "plt.show()"
      ]
    },
    {
      "cell_type": "code",
      "execution_count": 18,
      "id": "a40a5767",
      "metadata": {
        "colab": {
          "base_uri": "https://localhost:8080/"
        },
        "id": "a40a5767",
        "outputId": "36c94280-dcd4-41f1-80e6-869bf836d373"
      },
      "outputs": [
        {
          "data": {
            "text/plain": [
              "ShapiroResult(statistic=0.9785812497138977, pvalue=6.473160851783177e-07)"
            ]
          },
          "execution_count": 18,
          "metadata": {},
          "output_type": "execute_result"
        }
      ],
      "source": [
        "stats.shapiro(diabetes_df['age']) "
      ]
    },
    {
      "cell_type": "markdown",
      "id": "6a456859",
      "metadata": {
        "id": "6a456859"
      },
      "source": [
        "* Based on the qqplot (most points lied on the line) and the Shapiro result which showed that the p-value = 6.47e-07 < 0.05\n",
        "* We can say that the distribution of the age is normally distributed and we can conduct the z-test."
      ]
    },
    {
      "cell_type": "code",
      "execution_count": 19,
      "id": "6e1c83be",
      "metadata": {
        "colab": {
          "base_uri": "https://localhost:8080/"
        },
        "id": "6e1c83be",
        "outputId": "08ab0ab7-fd80-40de-b233-6ab188e2b1a8"
      },
      "outputs": [
        {
          "data": {
            "text/plain": [
              "(2.4358875641213964, 0.014855301229383732)"
            ]
          },
          "execution_count": 19,
          "metadata": {},
          "output_type": "execute_result"
        }
      ],
      "source": [
        "w_diabetes = diabetes_df[diabetes_df['class']==1]\n",
        "n_diabetes = diabetes_df[diabetes_df['class']==0] \n",
        "ztest(w_diabetes['age'], n_diabetes['age'])"
      ]
    },
    {
      "cell_type": "markdown",
      "id": "0a04016b",
      "metadata": {
        "id": "0a04016b"
      },
      "source": [
        "* With p-value = 0.014 < 0.05, we will reject the null hypothesis\n",
        "* It is said that there is significant difference in the mean of age between people with diabetes and people without diabetes."
      ]
    },
    {
      "cell_type": "code",
      "execution_count": 20,
      "id": "be590bed",
      "metadata": {
        "id": "be590bed"
      },
      "outputs": [],
      "source": [
        "diabetes_df = pd.read_csv(\"https://raw.githubusercontent.com/jadanpl/Early-Diabetes-Detection-Using-Symptoms/main/diabetes_data.csv\")\n",
        "diabetes_df.columns = diabetes_df.columns.str.lower()"
      ]
    },
    {
      "cell_type": "code",
      "execution_count": 21,
      "id": "59560ef1",
      "metadata": {
        "colab": {
          "base_uri": "https://localhost:8080/",
          "height": 514
        },
        "id": "59560ef1",
        "outputId": "05d4b2f1-75d6-4193-eb5b-80571c4dabfb"
      },
      "outputs": [
        {
          "data": {
            "image/png": "[encoded data removed]",
            "text/plain": [
              "<Figure size 864x576 with 1 Axes>"
            ]
          },
          "metadata": {},
          "output_type": "display_data"
        }
      ],
      "source": [
        "plt.figure(figsize=(12,8))\n",
        "a = sns.boxplot(y='age', x='class', hue='gender',data=diabetes_df, palette='spring')\n",
        "plt.title(\"Age & Gender of Diabetes & Non-Diabetes Patients\", fontsize=14);"
      ]
    },
    {
      "cell_type": "markdown",
      "id": "b34dbce2",
      "metadata": {
        "id": "b34dbce2"
      },
      "source": [
        "# Model Building & Evaluation"
      ]
    },
    {
      "cell_type": "code",
      "execution_count": 22,
      "id": "e5a93e4a",
      "metadata": {
        "id": "e5a93e4a"
      },
      "outputs": [],
      "source": [
        "X = diabetes_df.drop(['class','obesity'], axis=1)\n",
        "Y = diabetes_df['class'].map({'Negative':0,'Positive':1})"
      ]
    },
    {
      "cell_type": "code",
      "execution_count": 23,
      "id": "58e9ce82",
      "metadata": {
        "id": "58e9ce82"
      },
      "outputs": [],
      "source": [
        "num_cols = ['age']\n",
        "cat_cols = list(X.drop(['age'], axis=1))\n",
        "\n",
        "full_pipeline = ColumnTransformer([\n",
        "        (\"num\", MinMaxScaler(), num_cols),\n",
        "        (\"cat\", OneHotEncoder(sparse=False, dtype='int', drop=\"if_binary\"), cat_cols)])"
      ]
    },
    {
      "cell_type": "code",
      "execution_count": 24,
      "id": "bbef45fb",
      "metadata": {
        "id": "bbef45fb"
      },
      "outputs": [],
      "source": [
        "# Create training and testing sets\n",
        "X_train, X_test, Y_train, Y_test = train_test_split(X, Y, test_size=0.25, random_state=42, stratify=Y)"
      ]
    },
    {
      "cell_type": "code",
      "execution_count": 25,
      "id": "88ea54a4",
      "metadata": {
        "id": "88ea54a4"
      },
      "outputs": [],
      "source": [
        "X_train = full_pipeline.fit_transform(X_train)\n",
        "X_test = full_pipeline.transform(X_test)"
      ]
    },
    {
      "cell_type": "code",
      "execution_count": 26,
      "id": "c3f76caa",
      "metadata": {
        "colab": {
          "base_uri": "https://localhost:8080/"
        },
        "id": "c3f76caa",
        "outputId": "318edb4d-a483-4904-8b9e-cf730f77cc10",
        "scrolled": true
      },
      "outputs": [
        {
          "data": {
            "text/plain": [
              "[LogisticRegression(max_iter=10000),\n",
              " KNeighborsClassifier(metric='euclidean'),\n",
              " DecisionTreeClassifier(random_state=42),\n",
              " RandomForestClassifier(random_state=42),\n",
              " AdaBoostClassifier(random_state=42),\n",
              " XGBClassifier(base_score=None, booster=None, callbacks=None,\n",
              "               colsample_bylevel=None, colsample_bynode=None,\n",
              "               colsample_bytree=None, early_stopping_rounds=None,\n",
              "               enable_categorical=False, eval_metric=None, feature_types=None,\n",
              "               gamma=None, gpu_id=None, grow_policy=None, importance_type=None,\n",
              "               interaction_constraints=None, learning_rate=None, max_bin=None,\n",
              "               max_cat_threshold=None, max_cat_to_onehot=None,\n",
              "               max_delta_step=None, max_depth=None, max_leaves=None,\n",
              "               min_child_weight=None, missing=nan, monotone_constraints=None,\n",
              "               n_estimators=100, n_jobs=None, num_parallel_tree=None,\n",
              "               predictor=None, random_state=42, ...),\n",
              " GaussianNB(),\n",
              " SVC(random_state=42)]"
            ]
          },
          "execution_count": 26,
          "metadata": {},
          "output_type": "execute_result"
        }
      ],
      "source": [
        "classifiers = []\n",
        "log_reg = LogisticRegression(max_iter=10000)\n",
        "classifiers.append(log_reg)\n",
        "knn_neg = KNeighborsClassifier(metric='euclidean') \n",
        "classifiers.append(knn_neg)\n",
        "dt_model = DT(random_state=42)\n",
        "classifiers.append(dt_model)\n",
        "rf_model = RF(random_state=42)\n",
        "classifiers.append(rf_model)\n",
        "ab_model=AdaBoostClassifier(random_state=42)\n",
        "classifiers.append(ab_model)\n",
        "xgb_model = XGBClassifier(random_state=42)\n",
        "classifiers.append(xgb_model)\n",
        "GNB_model = GB() \n",
        "classifiers.append(GNB_model)\n",
        "SVM_model = SVC(random_state=42)\n",
        "classifiers.append(SVM_model)\n",
        "classifiers"
      ]
    },
    {
      "cell_type": "code",
      "execution_count": 27,
      "id": "cac4982d",
      "metadata": {
        "id": "cac4982d"
      },
      "outputs": [],
      "source": [
        "recall_train = []\n",
        "recall_test = []\n",
        "for clf in classifiers:\n",
        "    clf.fit(X_train, Y_train)\n",
        "    pred_train = clf.predict(X_train)\n",
        "    pred_test = clf.predict(X_test)\n",
        "    rn = round(recall_score(Y_train, pred_train, average='macro')*100,2)\n",
        "    rt = round(recall_score(Y_test, pred_test, average='macro')*100,2)\n",
        "    recall_train.append(rn)\n",
        "    recall_test.append(rt)"
      ]
    },
    {
      "cell_type": "code",
      "execution_count": 28,
      "id": "5ef6d0e7",
      "metadata": {
        "colab": {
          "base_uri": "https://localhost:8080/",
          "height": 300
        },
        "id": "5ef6d0e7",
        "outputId": "dc2b2199-9cee-49a4-947f-648c3591a6cb"
      },
      "outputs": [
        {
          "data": {
            "text/html": [
              "\n",
              "  <div id=\"df-08a65e15-b3ad-47e6-972f-df04a26f492f\">\n",
              "    <div class=\"colab-df-container\">\n",
              "      <div>\n",
              "<style scoped>\n",
              "    .dataframe tbody tr th:only-of-type {\n",
              "        vertical-align: middle;\n",
              "    }\n",
              "\n",
              "    .dataframe tbody tr th {\n",
              "        vertical-align: top;\n",
              "    }\n",
              "\n",
              "    .dataframe thead th {\n",
              "        text-align: right;\n",
              "    }\n",
              "</style>\n",
              "<table border=\"1\" class=\"dataframe\">\n",
              "  <thead>\n",
              "    <tr style=\"text-align: right;\">\n",
              "      <th></th>\n",
              "      <th>Model</th>\n",
              "      <th>Recall-Macro_Training (%)</th>\n",
              "      <th>Recall-Macro_Test (%)</th>\n",
              "    </tr>\n",
              "  </thead>\n",
              "  <tbody>\n",
              "    <tr>\n",
              "      <th>3</th>\n",
              "      <td>RF</td>\n",
              "      <td>100.00</td>\n",
              "      <td>98.00</td>\n",
              "    </tr>\n",
              "    <tr>\n",
              "      <th>5</th>\n",
              "      <td>XGB</td>\n",
              "      <td>100.00</td>\n",
              "      <td>97.75</td>\n",
              "    </tr>\n",
              "    <tr>\n",
              "      <th>2</th>\n",
              "      <td>DT</td>\n",
              "      <td>100.00</td>\n",
              "      <td>96.38</td>\n",
              "    </tr>\n",
              "    <tr>\n",
              "      <th>7</th>\n",
              "      <td>SVM</td>\n",
              "      <td>97.92</td>\n",
              "      <td>95.50</td>\n",
              "    </tr>\n",
              "    <tr>\n",
              "      <th>4</th>\n",
              "      <td>AdaBoost</td>\n",
              "      <td>95.38</td>\n",
              "      <td>93.62</td>\n",
              "    </tr>\n",
              "    <tr>\n",
              "      <th>1</th>\n",
              "      <td>KNN</td>\n",
              "      <td>95.92</td>\n",
              "      <td>92.62</td>\n",
              "    </tr>\n",
              "    <tr>\n",
              "      <th>0</th>\n",
              "      <td>LR</td>\n",
              "      <td>95.04</td>\n",
              "      <td>92.00</td>\n",
              "    </tr>\n",
              "    <tr>\n",
              "      <th>6</th>\n",
              "      <td>Gaussian Bayes</td>\n",
              "      <td>89.79</td>\n",
              "      <td>90.62</td>\n",
              "    </tr>\n",
              "  </tbody>\n",
              "</table>\n",
              "</div>\n",
              "      <button class=\"colab-df-convert\" onclick=\"convertToInteractive('df-08a65e15-b3ad-47e6-972f-df04a26f492f')\"\n",
              "              title=\"Convert this dataframe to an interactive table.\"\n",
              "              style=\"display:none;\">\n",
              "        \n",
              "  <svg xmlns=\"http://www.w3.org/2000/svg\" height=\"24px\"viewBox=\"0 0 24 24\"\n",
              "       width=\"24px\">\n",
              "    <path d=\"M0 0h24v24H0V0z\" fill=\"none\"/>\n",
              "    <path d=\"M18.56 5.44l.94 2.06.94-2.06 2.06-.94-2.06-.94-.94-2.06-.94 2.06-2.06.94zm-11 1L8.5 8.5l.94-2.06 2.06-.94-2.06-.94L8.5 2.5l-.94 2.06-2.06.94zm10 10l.94 2.06.94-2.06 2.06-.94-2.06-.94-.94-2.06-.94 2.06-2.06.94z\"/><path d=\"M17.41 7.96l-1.37-1.37c-.4-.4-.92-.59-1.43-.59-.52 0-1.04.2-1.43.59L10.3 9.45l-7.72 7.72c-.78.78-.78 2.05 0 2.83L4 21.41c.39.39.9.59 1.41.59.51 0 1.02-.2 1.41-.59l7.78-7.78 2.81-2.81c.8-.78.8-2.07 0-2.86zM5.41 20L4 18.59l7.72-7.72 1.47 1.35L5.41 20z\"/>\n",
              "  </svg>\n",
              "      </button>\n",
              "      \n",
              "  <style>\n",
              "    .colab-df-container {\n",
              "      display:flex;\n",
              "      flex-wrap:wrap;\n",
              "      gap: 12px;\n",
              "    }\n",
              "\n",
              "    .colab-df-convert {\n",
              "      background-color: #E8F0FE;\n",
              "      border: none;\n",
              "      border-radius: 50%;\n",
              "      cursor: pointer;\n",
              "      display: none;\n",
              "      fill: #1967D2;\n",
              "      height: 32px;\n",
              "      padding: 0 0 0 0;\n",
              "      width: 32px;\n",
              "    }\n",
              "\n",
              "    .colab-df-convert:hover {\n",
              "      background-color: #E2EBFA;\n",
              "      box-shadow: 0px 1px 2px rgba(60, 64, 67, 0.3), 0px 1px 3px 1px rgba(60, 64, 67, 0.15);\n",
              "      fill: #174EA6;\n",
              "    }\n",
              "\n",
              "    [theme=dark] .colab-df-convert {\n",
              "      background-color: #3B4455;\n",
              "      fill: #D2E3FC;\n",
              "    }\n",
              "\n",
              "    [theme=dark] .colab-df-convert:hover {\n",
              "      background-color: #434B5C;\n",
              "      box-shadow: 0px 1px 3px 1px rgba(0, 0, 0, 0.15);\n",
              "      filter: drop-shadow(0px 1px 2px rgba(0, 0, 0, 0.3));\n",
              "      fill: #FFFFFF;\n",
              "    }\n",
              "  </style>\n",
              "\n",
              "      <script>\n",
              "        const buttonEl =\n",
              "          document.querySelector('#df-08a65e15-b3ad-47e6-972f-df04a26f492f button.colab-df-convert');\n",
              "        buttonEl.style.display =\n",
              "          google.colab.kernel.accessAllowed ? 'block' : 'none';\n",
              "\n",
              "        async function convertToInteractive(key) {\n",
              "          const element = document.querySelector('#df-08a65e15-b3ad-47e6-972f-df04a26f492f');\n",
              "          const dataTable =\n",
              "            await google.colab.kernel.invokeFunction('convertToInteractive',\n",
              "                                                     [key], {});\n",
              "          if (!dataTable) return;\n",
              "\n",
              "          const docLinkHtml = 'Like what you see? Visit the ' +\n",
              "            '<a target=\"_blank\" href=https://colab.research.google.com/notebooks/data_table.ipynb>data table notebook</a>'\n",
              "            + ' to learn more about interactive tables.';\n",
              "          element.innerHTML = '';\n",
              "          dataTable['output_type'] = 'display_data';\n",
              "          await google.colab.output.renderOutput(dataTable, element);\n",
              "          const docLink = document.createElement('div');\n",
              "          docLink.innerHTML = docLinkHtml;\n",
              "          element.appendChild(docLink);\n",
              "        }\n",
              "      </script>\n",
              "    </div>\n",
              "  </div>\n",
              "  "
            ],
            "text/plain": [
              "            Model  Recall-Macro_Training (%)  Recall-Macro_Test (%)\n",
              "3              RF                     100.00                  98.00\n",
              "5             XGB                     100.00                  97.75\n",
              "2              DT                     100.00                  96.38\n",
              "7             SVM                      97.92                  95.50\n",
              "4        AdaBoost                      95.38                  93.62\n",
              "1             KNN                      95.92                  92.62\n",
              "0              LR                      95.04                  92.00\n",
              "6  Gaussian Bayes                      89.79                  90.62"
            ]
          },
          "execution_count": 28,
          "metadata": {},
          "output_type": "execute_result"
        }
      ],
      "source": [
        "original_result = pd.DataFrame(data={'Model':['LR','KNN','DT','RF','AdaBoost','XGB','Gaussian Bayes','SVM'],\n",
        "                                     'Recall-Macro_Training (%)':recall_train,\n",
        "                                     'Recall-Macro_Test (%)':recall_test})\n",
        "original_result.sort_values(by=['Recall-Macro_Test (%)'],ascending=False)"
      ]
    },
    {
      "cell_type": "code",
      "execution_count": 29,
      "id": "518d45da",
      "metadata": {
        "id": "518d45da"
      },
      "outputs": [],
      "source": [
        "rc_mean_cv = []\n",
        "rc_std_cv = []\n",
        "kf = StratifiedKFold(n_splits=5, shuffle=True, random_state=42)\n",
        "for i in classifiers:\n",
        "    score = cross_val_score(i,X_train,Y_train,scoring='recall_macro', cv=kf)\n",
        "    rc_mean_cv.append(round(score.mean()*100,2))\n",
        "    rc_std_cv.append(round(score.std()*100,2))"
      ]
    },
    {
      "cell_type": "code",
      "execution_count": 30,
      "id": "bf808829",
      "metadata": {
        "colab": {
          "base_uri": "https://localhost:8080/",
          "height": 300
        },
        "id": "bf808829",
        "outputId": "43d17926-cde5-4932-a652-bd551c4c8343"
      },
      "outputs": [
        {
          "data": {
            "text/html": [
              "\n",
              "  <div id=\"df-2934401e-ae3c-4a20-b0da-18c979004e5e\">\n",
              "    <div class=\"colab-df-container\">\n",
              "      <div>\n",
              "<style scoped>\n",
              "    .dataframe tbody tr th:only-of-type {\n",
              "        vertical-align: middle;\n",
              "    }\n",
              "\n",
              "    .dataframe tbody tr th {\n",
              "        vertical-align: top;\n",
              "    }\n",
              "\n",
              "    .dataframe thead th {\n",
              "        text-align: right;\n",
              "    }\n",
              "</style>\n",
              "<table border=\"1\" class=\"dataframe\">\n",
              "  <thead>\n",
              "    <tr style=\"text-align: right;\">\n",
              "      <th></th>\n",
              "      <th>Model</th>\n",
              "      <th>Recall-Macro_Mean(%)</th>\n",
              "      <th>Recall-Macro_SDev(%)</th>\n",
              "    </tr>\n",
              "  </thead>\n",
              "  <tbody>\n",
              "    <tr>\n",
              "      <th>3</th>\n",
              "      <td>RT</td>\n",
              "      <td>96.75</td>\n",
              "      <td>2.31</td>\n",
              "    </tr>\n",
              "    <tr>\n",
              "      <th>5</th>\n",
              "      <td>XGB</td>\n",
              "      <td>95.71</td>\n",
              "      <td>1.85</td>\n",
              "    </tr>\n",
              "    <tr>\n",
              "      <th>7</th>\n",
              "      <td>SVM</td>\n",
              "      <td>95.67</td>\n",
              "      <td>1.78</td>\n",
              "    </tr>\n",
              "    <tr>\n",
              "      <th>2</th>\n",
              "      <td>DT</td>\n",
              "      <td>95.46</td>\n",
              "      <td>2.82</td>\n",
              "    </tr>\n",
              "    <tr>\n",
              "      <th>1</th>\n",
              "      <td>KNN</td>\n",
              "      <td>94.75</td>\n",
              "      <td>1.52</td>\n",
              "    </tr>\n",
              "    <tr>\n",
              "      <th>0</th>\n",
              "      <td>LR</td>\n",
              "      <td>94.42</td>\n",
              "      <td>0.98</td>\n",
              "    </tr>\n",
              "    <tr>\n",
              "      <th>4</th>\n",
              "      <td>AdaBoost</td>\n",
              "      <td>91.58</td>\n",
              "      <td>2.88</td>\n",
              "    </tr>\n",
              "    <tr>\n",
              "      <th>6</th>\n",
              "      <td>GNB</td>\n",
              "      <td>89.46</td>\n",
              "      <td>1.88</td>\n",
              "    </tr>\n",
              "  </tbody>\n",
              "</table>\n",
              "</div>\n",
              "      <button class=\"colab-df-convert\" onclick=\"convertToInteractive('df-2934401e-ae3c-4a20-b0da-18c979004e5e')\"\n",
              "              title=\"Convert this dataframe to an interactive table.\"\n",
              "              style=\"display:none;\">\n",
              "        \n",
              "  <svg xmlns=\"http://www.w3.org/2000/svg\" height=\"24px\"viewBox=\"0 0 24 24\"\n",
              "       width=\"24px\">\n",
              "    <path d=\"M0 0h24v24H0V0z\" fill=\"none\"/>\n",
              "    <path d=\"M18.56 5.44l.94 2.06.94-2.06 2.06-.94-2.06-.94-.94-2.06-.94 2.06-2.06.94zm-11 1L8.5 8.5l.94-2.06 2.06-.94-2.06-.94L8.5 2.5l-.94 2.06-2.06.94zm10 10l.94 2.06.94-2.06 2.06-.94-2.06-.94-.94-2.06-.94 2.06-2.06.94z\"/><path d=\"M17.41 7.96l-1.37-1.37c-.4-.4-.92-.59-1.43-.59-.52 0-1.04.2-1.43.59L10.3 9.45l-7.72 7.72c-.78.78-.78 2.05 0 2.83L4 21.41c.39.39.9.59 1.41.59.51 0 1.02-.2 1.41-.59l7.78-7.78 2.81-2.81c.8-.78.8-2.07 0-2.86zM5.41 20L4 18.59l7.72-7.72 1.47 1.35L5.41 20z\"/>\n",
              "  </svg>\n",
              "      </button>\n",
              "      \n",
              "  <style>\n",
              "    .colab-df-container {\n",
              "      display:flex;\n",
              "      flex-wrap:wrap;\n",
              "      gap: 12px;\n",
              "    }\n",
              "\n",
              "    .colab-df-convert {\n",
              "      background-color: #E8F0FE;\n",
              "      border: none;\n",
              "      border-radius: 50%;\n",
              "      cursor: pointer;\n",
              "      display: none;\n",
              "      fill: #1967D2;\n",
              "      height: 32px;\n",
              "      padding: 0 0 0 0;\n",
              "      width: 32px;\n",
              "    }\n",
              "\n",
              "    .colab-df-convert:hover {\n",
              "      background-color: #E2EBFA;\n",
              "      box-shadow: 0px 1px 2px rgba(60, 64, 67, 0.3), 0px 1px 3px 1px rgba(60, 64, 67, 0.15);\n",
              "      fill: #174EA6;\n",
              "    }\n",
              "\n",
              "    [theme=dark] .colab-df-convert {\n",
              "      background-color: #3B4455;\n",
              "      fill: #D2E3FC;\n",
              "    }\n",
              "\n",
              "    [theme=dark] .colab-df-convert:hover {\n",
              "      background-color: #434B5C;\n",
              "      box-shadow: 0px 1px 3px 1px rgba(0, 0, 0, 0.15);\n",
              "      filter: drop-shadow(0px 1px 2px rgba(0, 0, 0, 0.3));\n",
              "      fill: #FFFFFF;\n",
              "    }\n",
              "  </style>\n",
              "\n",
              "      <script>\n",
              "        const buttonEl =\n",
              "          document.querySelector('#df-2934401e-ae3c-4a20-b0da-18c979004e5e button.colab-df-convert');\n",
              "        buttonEl.style.display =\n",
              "          google.colab.kernel.accessAllowed ? 'block' : 'none';\n",
              "\n",
              "        async function convertToInteractive(key) {\n",
              "          const element = document.querySelector('#df-2934401e-ae3c-4a20-b0da-18c979004e5e');\n",
              "          const dataTable =\n",
              "            await google.colab.kernel.invokeFunction('convertToInteractive',\n",
              "                                                     [key], {});\n",
              "          if (!dataTable) return;\n",
              "\n",
              "          const docLinkHtml = 'Like what you see? Visit the ' +\n",
              "            '<a target=\"_blank\" href=https://colab.research.google.com/notebooks/data_table.ipynb>data table notebook</a>'\n",
              "            + ' to learn more about interactive tables.';\n",
              "          element.innerHTML = '';\n",
              "          dataTable['output_type'] = 'display_data';\n",
              "          await google.colab.output.renderOutput(dataTable, element);\n",
              "          const docLink = document.createElement('div');\n",
              "          docLink.innerHTML = docLinkHtml;\n",
              "          element.appendChild(docLink);\n",
              "        }\n",
              "      </script>\n",
              "    </div>\n",
              "  </div>\n",
              "  "
            ],
            "text/plain": [
              "      Model  Recall-Macro_Mean(%)  Recall-Macro_SDev(%)\n",
              "3        RT                 96.75                  2.31\n",
              "5       XGB                 95.71                  1.85\n",
              "7       SVM                 95.67                  1.78\n",
              "2        DT                 95.46                  2.82\n",
              "1       KNN                 94.75                  1.52\n",
              "0        LR                 94.42                  0.98\n",
              "4  AdaBoost                 91.58                  2.88\n",
              "6       GNB                 89.46                  1.88"
            ]
          },
          "execution_count": 30,
          "metadata": {},
          "output_type": "execute_result"
        }
      ],
      "source": [
        "cv_result = pd.DataFrame(data={'Model':['LR','KNN','DT','RT','AdaBoost','XGB','GNB','SVM'],\n",
        "                               'Recall-Macro_Mean(%)':rc_mean_cv,\n",
        "                               'Recall-Macro_SDev(%)':rc_std_cv})\n",
        "cv_result.sort_values(['Recall-Macro_Mean(%)','Recall-Macro_SDev(%)'],ascending=False)"
      ]
    },
    {
      "cell_type": "markdown",
      "id": "ba2c6614",
      "metadata": {
        "id": "ba2c6614"
      },
      "source": [
        "### Handling imbalanced class with SMOTE-based techniques"
      ]
    },
    {
      "cell_type": "code",
      "execution_count": 31,
      "id": "3dfb5a37",
      "metadata": {
        "colab": {
          "base_uri": "https://localhost:8080/"
        },
        "id": "3dfb5a37",
        "outputId": "6acaaba6-57a8-4ad4-9e8d-d86a4d7b9c70"
      },
      "outputs": [
        {
          "data": {
            "text/plain": [
              "Positive    320\n",
              "Negative    200\n",
              "Name: class, dtype: int64"
            ]
          },
          "execution_count": 31,
          "metadata": {},
          "output_type": "execute_result"
        }
      ],
      "source": [
        "diabetes_df['class'].value_counts()"
      ]
    },
    {
      "cell_type": "markdown",
      "id": "cac2ee62",
      "metadata": {
        "id": "cac2ee62"
      },
      "source": [
        "* There is imbalanced class in the dataset, where the majority class belongs to the “0” (we denoted it as negative) label and the minority class belongs to the “1” (we denoted it as positive) label. \n",
        "* Hence, SMOTE based techniques (`SMOTE`, `ADASYN`, `SMOTEENN`, `SMOTETomek`) would be used to overcome this issue on the random forest model. "
      ]
    },
    {
      "cell_type": "code",
      "execution_count": 32,
      "id": "021337dc",
      "metadata": {
        "colab": {
          "base_uri": "https://localhost:8080/"
        },
        "id": "021337dc",
        "outputId": "7e4e9141-58e1-46fa-ddac-e1303b672dfd"
      },
      "outputs": [
        {
          "name": "stdout",
          "output_type": "stream",
          "text": [
            "Before Counter({1: 240, 0: 150})\n",
            "After Counter({1: 240, 0: 240})\n"
          ]
        }
      ],
      "source": [
        "# SMOTE\n",
        "counter = Counter(Y_train)\n",
        "print('Before',counter)\n",
        "smt=SMOTE(random_state=42)\n",
        "X_train_sm, Y_train_sm = smt.fit_resample(X_train, Y_train)\n",
        "counter = Counter(Y_train_sm)\n",
        "print('After',counter)"
      ]
    },
    {
      "cell_type": "code",
      "execution_count": 33,
      "id": "424ec3ab",
      "metadata": {
        "colab": {
          "base_uri": "https://localhost:8080/"
        },
        "id": "424ec3ab",
        "outputId": "53861463-3622-40cf-8e19-24ee6c7279dd"
      },
      "outputs": [
        {
          "name": "stdout",
          "output_type": "stream",
          "text": [
            "Before Counter({1: 240, 0: 150})\n",
            "After Counter({1: 240, 0: 237})\n"
          ]
        }
      ],
      "source": [
        "# ADASYN\n",
        "counter = Counter(Y_train)\n",
        "print('Before',counter)\n",
        "ada=ADASYN(random_state=42)\n",
        "X_train_ada, Y_train_ada=ada.fit_resample(X_train, Y_train)\n",
        "counter = Counter(Y_train_ada)\n",
        "print('After',counter)"
      ]
    },
    {
      "cell_type": "code",
      "execution_count": 34,
      "id": "8077e265",
      "metadata": {
        "colab": {
          "base_uri": "https://localhost:8080/"
        },
        "id": "8077e265",
        "outputId": "0da24292-defa-4f33-d3ff-b55c8ef01ef4",
        "scrolled": true
      },
      "outputs": [
        {
          "name": "stdout",
          "output_type": "stream",
          "text": [
            "Before Counter({1: 240, 0: 150})\n",
            "After Counter({0: 232, 1: 215})\n"
          ]
        }
      ],
      "source": [
        "# SMOTE-ENN\n",
        "counter = Counter(Y_train)\n",
        "print('Before',counter)\n",
        "smenn=SMOTEENN(random_state=42)\n",
        "X_train_smenn, Y_train_smenn=smenn.fit_resample(X_train, Y_train)\n",
        "counter = Counter(Y_train_smenn)\n",
        "print('After',counter)"
      ]
    },
    {
      "cell_type": "code",
      "execution_count": 35,
      "id": "ca81df9b",
      "metadata": {
        "colab": {
          "base_uri": "https://localhost:8080/"
        },
        "id": "ca81df9b",
        "outputId": "835ac3f1-e1ec-4e9e-c426-5734aededa78"
      },
      "outputs": [
        {
          "name": "stdout",
          "output_type": "stream",
          "text": [
            "Before Counter({1: 240, 0: 150})\n",
            "After Counter({1: 239, 0: 239})\n"
          ]
        }
      ],
      "source": [
        "# SMOTE-TOMEK \n",
        "counter = Counter(Y_train)\n",
        "print('Before',counter)\n",
        "smtom=SMOTETomek(random_state=42)\n",
        "X_train_smtom, Y_train_smtom=smtom.fit_resample(X_train, Y_train)\n",
        "counter = Counter(Y_train_smtom)\n",
        "print('After',counter)"
      ]
    },
    {
      "cell_type": "markdown",
      "id": "4bf1d038",
      "metadata": {
        "id": "4bf1d038"
      },
      "source": [
        "* Above are the SMOTE-based techniques to be used to handle imbalanced data. \n",
        "* Below is the function which involved: \n",
        " 1. Pipeline to handle the inbalanced dataset, scale the data, and run the data with a set of classifiers one by one. \n",
        " 2. Hyperparameter tuning process with 5-fold cross validation for each classifier to select the best model and its best parameters with the `PipelineHelper`. "
      ]
    },
    {
      "cell_type": "code",
      "execution_count": 56,
      "id": "6a63c67b",
      "metadata": {
        "id": "6a63c67b"
      },
      "outputs": [],
      "source": [
        "def diabetes_prediction(X,Y,smote=False,adasyn=False,smote_enn=False, smote_tomek=False):\n",
        "    X_train, X_test, Y_train, Y_test = train_test_split(X, Y, test_size=0.25, random_state=42, stratify=Y)\n",
        "    \n",
        "    trf = ColumnTransformer(transformers =[('cat',OneHotEncoder(sparse = False, drop ='first'),\n",
        "                                               ['gender','polyuria','polydipsia','sudden weight loss',\n",
        "                                                'weakness','polyphagia','genital thrush','visual blurring',\n",
        "                                                'itching','irritability','delayed healing','partial paresis',\n",
        "                                                'muscle stiffness','alopecia']),\n",
        "                                           ('num',MinMaxScaler(), ['age'])],\n",
        "                            remainder='passthrough')\n",
        "    \n",
        "    clf = [('log_reg', LogisticRegression(max_iter=10000)),\n",
        "           ('knn_neg', KNeighborsClassifier(metric='euclidean')),\n",
        "           ('dt_model', DT(random_state=42)),\n",
        "           ('rf_model', RF(random_state=42)),\n",
        "           ('ab_model', AdaBoostClassifier(random_state=42)),\n",
        "           ('xgb_model', XGBClassifier(random_state=42)),\n",
        "           ('GNB_model', GB()),\n",
        "           ('SVM_model', SVC(random_state=42))]\n",
        "    \n",
        "    if (smote==True) & (adasyn==False) & (smote_enn==False) & (smote_tomek==False):\n",
        "        pipeline = imbpipeline(steps = [('preprocessing',trf),\n",
        "                                        ('smote', SMOTE(random_state=42)),\n",
        "                                        ('classifier',PipelineHelper(clf))])\n",
        "        \n",
        "    elif (smote==False) & (adasyn==True) & (smote_enn==False) & (smote_tomek==False):\n",
        "        pipeline = imbpipeline(steps = [('preprocessing',trf),\n",
        "                                        ('adasyn', ADASYN(random_state=42)),\n",
        "                                        ('classifier',PipelineHelper(clf))]) \n",
        "                               \n",
        "    elif (smote==False) & (adasyn==False) & (smote_enn==True) & (smote_tomek==False):\n",
        "        pipeline = imbpipeline(steps = [('preprocessing',trf),\n",
        "                                        ('smote_enn', SMOTEENN(random_state=42)),\n",
        "                                        ('classifier',PipelineHelper(clf))]) \n",
        "                                                               \n",
        "    elif (smote==False) & (adasyn==False) & (smote_enn==False) & (smote_tomek==True):\n",
        "        pipeline = imbpipeline(steps = [('preprocessing',trf),\n",
        "                                        ('smote_tomek', SMOTETomek(random_state=42)),\n",
        "                                        ('classifier',PipelineHelper(clf))])\n",
        "                                         \n",
        "    else:\n",
        "        pipeline = imbpipeline(steps =[('preprocessing',trf),\n",
        "                                       ('classifier',PipelineHelper(clf))])\n",
        "    \n",
        "    kf = StratifiedKFold(n_splits=10, shuffle=True, random_state=42)\n",
        "    \n",
        "    param_grid={'classifier__selected_model': pipeline.named_steps['classifier'].generate(\n",
        "                    {'log_reg__C':np.logspace(-10, 1, 15),\n",
        "                     'log_reg__penalty':['l2'],\n",
        "                     'knn_neg__n_neighbors': [2, 3, 5, 7, 10],\n",
        "                     'knn_neg__leaf_size': [1, 2, 3, 5],\n",
        "#                      'knn_neg__weights': ['uniform','distance'],\n",
        "                     'dt_model__max_depth':[i for i in range(5,16,2)],\n",
        "                     'dt_model__min_samples_split':[2, 5, 10, 15, 20, 50],\n",
        "                     'dt_model__min_samples_leaf':[1, 2, 5],\n",
        "                     'dt_model__max_features': [1,3,6],\n",
        "                     'rf_model__max_depth': [3, 10, 30],\n",
        "                     'rf_model__n_estimators': [10, 20, 50, 100, 150],\n",
        "                     'rf_model__max_features':  [i for i in range(5,20,2)],\n",
        "                     'ab_model__n_estimators': [10, 20, 40, 100],\n",
        "                     'ab_model__algorithm': ['SAMME', 'SAMME.R'],\n",
        "                     'xgb_model__n_estimators': [10, 20, 50, 100],\n",
        "                     'xgb_model__max_depth': [3, 10, 30],\n",
        "                     'xgb_model__gamma': [3,5,7,9],\n",
        "                     'xgb_model__min_child_weight' : [3,7,10],\n",
        "                     'SVM_model__C': [0.1, 1.0],\n",
        "                     'SVM_model__kernel': ['linear', 'rbf'],\n",
        "                     'SVM_model__gamma': [1, 0.1, 0.01, 0.001, 0.0001]})\n",
        "               }\n",
        "\n",
        "    grid_search = GridSearchCV(pipeline, param_grid, cv=kf, \n",
        "                               scoring='recall_macro',\n",
        "                               verbose=1, n_jobs=-1)\n",
        "    grid_search.fit(X_train, Y_train)\n",
        "    print(grid_search.best_params_)\n",
        "    cv_score = grid_search.best_score_\n",
        "    test_score = grid_search.score(X_test, Y_test)\n",
        "    print(f'Cross-validation score: {round(cv_score*100,2)}% \\nTest score: {round(test_score*100,2)}%')                                                           "
      ]
    },
    {
      "cell_type": "code",
      "execution_count": 57,
      "id": "751436b3",
      "metadata": {
        "colab": {
          "base_uri": "https://localhost:8080/"
        },
        "id": "751436b3",
        "outputId": "b3309753-9259-4fc6-94df-a6dd8ece4f0d"
      },
      "outputs": [
        {
          "name": "stdout",
          "output_type": "stream",
          "text": [
            "Fitting 10 folds for each of 652 candidates, totalling 6520 fits\n",
            "{'classifier__selected_model': ('log_reg', {'C': 1e-10, 'penalty': 'l2'})}\n",
            "Cross-validation score: 75.96% \n",
            "Test score: 82.75%\n",
            "CPU times: user 15.4 s, sys: 447 ms, total: 15.8 s\n",
            "Wall time: 4min 13s\n"
          ]
        }
      ],
      "source": [
        "%%time\n",
        "diabetes_prediction(X,Y,smote=True,adasyn=False,smote_enn=False,smote_tomek=False)"
      ]
    },
    {
      "cell_type": "code",
      "execution_count": 58,
      "id": "cd33b4ba",
      "metadata": {
        "colab": {
          "base_uri": "https://localhost:8080/"
        },
        "id": "cd33b4ba",
        "outputId": "135d9b8d-1ceb-4844-8bf4-4435dd5ad0bd"
      },
      "outputs": [
        {
          "name": "stdout",
          "output_type": "stream",
          "text": [
            "Fitting 10 folds for each of 652 candidates, totalling 6520 fits\n",
            "{'classifier__selected_model': ('log_reg', {'C': 1e-10, 'penalty': 'l2'})}\n",
            "Cross-validation score: 54.67% \n",
            "Test score: 50.0%\n",
            "CPU times: user 16.6 s, sys: 489 ms, total: 17.1 s\n",
            "Wall time: 4min 34s\n"
          ]
        }
      ],
      "source": [
        "%%time\n",
        "diabetes_prediction(X,Y,smote=False,adasyn=True,smote_enn=False,smote_tomek=False)"
      ]
    },
    {
      "cell_type": "code",
      "execution_count": 59,
      "id": "84a9999b",
      "metadata": {
        "colab": {
          "base_uri": "https://localhost:8080/"
        },
        "id": "84a9999b",
        "outputId": "ae79d301-8163-40f2-d5ef-507cf5e23824"
      },
      "outputs": [
        {
          "name": "stdout",
          "output_type": "stream",
          "text": [
            "Fitting 10 folds for each of 652 candidates, totalling 6520 fits\n",
            "{'classifier__selected_model': ('log_reg', {'C': 1e-10, 'penalty': 'l2'})}\n",
            "Cross-validation score: 50.0% \n",
            "Test score: 50.0%\n",
            "CPU times: user 16.4 s, sys: 506 ms, total: 16.9 s\n",
            "Wall time: 4min 42s\n"
          ]
        }
      ],
      "source": [
        "%%time\n",
        "diabetes_prediction(X, Y, smote=False,adasyn=False,smote_enn=True,smote_tomek=False)"
      ]
    },
    {
      "cell_type": "code",
      "execution_count": 60,
      "id": "34dca5cc",
      "metadata": {
        "colab": {
          "base_uri": "https://localhost:8080/"
        },
        "id": "34dca5cc",
        "outputId": "aee89f6b-f12c-4478-8233-b832875f92db"
      },
      "outputs": [
        {
          "name": "stdout",
          "output_type": "stream",
          "text": [
            "Fitting 10 folds for each of 652 candidates, totalling 6520 fits\n",
            "{'classifier__selected_model': ('log_reg', {'C': 1e-10, 'penalty': 'l2'})}\n",
            "Cross-validation score: 75.96% \n",
            "Test score: 82.75%\n",
            "CPU times: user 16.2 s, sys: 523 ms, total: 16.7 s\n",
            "Wall time: 4min 34s\n"
          ]
        }
      ],
      "source": [
        "%%time\n",
        "diabetes_prediction(X, Y, smote=False,adasyn=False,smote_enn=False,smote_tomek=True)"
      ]
    },
    {
      "cell_type": "code",
      "execution_count": 61,
      "id": "b290e27c",
      "metadata": {
        "colab": {
          "base_uri": "https://localhost:8080/"
        },
        "id": "b290e27c",
        "outputId": "3eea3142-4412-483a-c728-6e24c49029db"
      },
      "outputs": [
        {
          "name": "stdout",
          "output_type": "stream",
          "text": [
            "Fitting 10 folds for each of 652 candidates, totalling 6520 fits\n",
            "{'classifier__selected_model': ('log_reg', {'C': 1e-10, 'penalty': 'l2'})}\n",
            "Cross-validation score: 50.0% \n",
            "Test score: 50.0%\n",
            "CPU times: user 12.9 s, sys: 319 ms, total: 13.2 s\n",
            "Wall time: 3min 34s\n"
          ]
        }
      ],
      "source": [
        "%%time\n",
        "diabetes_prediction(X, Y, smote=False,adasyn=False,smote_enn=False,smote_tomek=False)"
      ]
    },
    {
      "cell_type": "markdown",
      "id": "6c2b8ac6",
      "metadata": {
        "id": "6c2b8ac6"
      },
      "source": [
        "# Final Model Selection"
      ]
    },
    {
      "cell_type": "code",
      "execution_count": 62,
      "id": "0b23c46a",
      "metadata": {
        "colab": {
          "base_uri": "https://localhost:8080/"
        },
        "id": "0b23c46a",
        "outputId": "aa0c2d17-1518-4567-d5bc-d306bdff450a"
      },
      "outputs": [
        {
          "name": "stdout",
          "output_type": "stream",
          "text": [
            "Fitting 10 folds for each of 50 candidates, totalling 500 fits\n",
            "Cross-validation score: 95.38% \n",
            "Test score: 95.75%\n",
            "CPU times: user 913 ms, sys: 35.8 ms, total: 949 ms\n",
            "Wall time: 16.8 s\n"
          ]
        }
      ],
      "source": [
        "%%time\n",
        "X_train, X_test, Y_train, Y_test = train_test_split(X, Y, test_size=0.25, random_state=42, stratify=Y)    \n",
        "cat_cols = list(X.drop(['age'], axis=1))\n",
        "preprocess = ColumnTransformer(transformers =[('cat',OneHotEncoder(sparse = False, dtype='int', drop=\"if_binary\"),cat_cols),\n",
        "                                              ('num',MinMaxScaler(), ['age'])],\n",
        "                              remainder='passthrough')\n",
        "\n",
        "final_pipeline = imbpipeline(steps=[('preprocessing',preprocess),\n",
        "                                    ('smote_enn', SMOTEENN(random_state=42)),\n",
        "                                    ('SVM_model', SVC(random_state=42))])\n",
        "\n",
        "param_grid= [{'SVM_model__C': [0.2, 0.4, 0.6, 0.8, 1.0],\n",
        "              'SVM_model__kernel': ['linear', 'rbf'],\n",
        "              'SVM_model__gamma': [1, 0.1, 0.01, 0.001, 0.0001]}]\n",
        "\n",
        "kf = StratifiedKFold(n_splits=10, shuffle=True, random_state=42)\n",
        "grid_search = GridSearchCV(final_pipeline, param_grid, cv=kf, scoring='recall_macro',verbose=1, n_jobs=-1)\n",
        "grid_search.fit(X_train, Y_train)\n",
        "final_model = grid_search.best_estimator_\n",
        "cv_score = grid_search.best_score_\n",
        "test_score = grid_search.score(X_test, Y_test)\n",
        "print(f'Cross-validation score: {round(cv_score*100,2)}% \\nTest score: {round(test_score*100,2)}%')"
      ]
    },
    {
      "cell_type": "code",
      "execution_count": 63,
      "id": "50e41e3b",
      "metadata": {
        "colab": {
          "base_uri": "https://localhost:8080/"
        },
        "id": "50e41e3b",
        "outputId": "b0a3e31c-75ec-4831-ef7b-f2f4f757e8e0"
      },
      "outputs": [
        {
          "data": {
            "text/plain": [
              "Pipeline(steps=[('preprocessing',\n",
              "                 ColumnTransformer(remainder='passthrough',\n",
              "                                   transformers=[('cat',\n",
              "                                                  OneHotEncoder(drop='if_binary',\n",
              "                                                                dtype='int',\n",
              "                                                                sparse=False),\n",
              "                                                  ['gender', 'polyuria',\n",
              "                                                   'polydipsia',\n",
              "                                                   'sudden weight loss',\n",
              "                                                   'weakness', 'polyphagia',\n",
              "                                                   'genital thrush',\n",
              "                                                   'visual blurring', 'itching',\n",
              "                                                   'irritability',\n",
              "                                                   'delayed healing',\n",
              "                                                   'partial paresis',\n",
              "                                                   'muscle stiffness',\n",
              "                                                   'alopecia']),\n",
              "                                                 ('num', MinMaxScaler(),\n",
              "                                                  ['age'])])),\n",
              "                ('smote_enn', SMOTEENN(random_state=42)),\n",
              "                ('SVM_model', SVC(C=0.4, gamma=1, random_state=42))])"
            ]
          },
          "execution_count": 63,
          "metadata": {},
          "output_type": "execute_result"
        }
      ],
      "source": [
        "final_model"
      ]
    },
    {
      "cell_type": "code",
      "execution_count": 64,
      "id": "9bdd4f65",
      "metadata": {
        "colab": {
          "base_uri": "https://localhost:8080/"
        },
        "id": "9bdd4f65",
        "outputId": "ba9dc87f-58f2-4001-dae7-f29af23cc4f4"
      },
      "outputs": [
        {
          "name": "stdout",
          "output_type": "stream",
          "text": [
            "Recall score from the final model (training data):  97.79 %\n",
            "Recall score from the final model (testing data):  95.75 %\n"
          ]
        }
      ],
      "source": [
        "pred_train = final_model.predict(X_train)\n",
        "pred_test = final_model.predict(X_test)\n",
        "recall_train = round(recall_score(Y_train, pred_train, average='macro')*100,2)\n",
        "recall_test = round(recall_score(Y_test, pred_test, average='macro')*100,2)\n",
        "print(\"Recall score from the final model (training data): \",recall_train,\"%\")\n",
        "print(\"Recall score from the final model (testing data): \",recall_test,\"%\") "
      ]
    },
    {
      "cell_type": "code",
      "execution_count": 65,
      "id": "8fbf46ed",
      "metadata": {
        "colab": {
          "base_uri": "https://localhost:8080/",
          "height": 338
        },
        "id": "8fbf46ed",
        "outputId": "2df5c792-f874-4bcf-9dea-f495e4c3b43a"
      },
      "outputs": [
        {
          "data": {
            "image/png": "[encoded data removed]",
            "text/plain": [
              "<Figure size 1152x360 with 2 Axes>"
            ]
          },
          "metadata": {},
          "output_type": "display_data"
        }
      ],
      "source": [
        "group_names = ['True Neg', 'False Pos', 'False Neg', 'True Pos']\n",
        "train_cnf_matrix = confusion_matrix(Y_train,pred_train)\n",
        "train_counts = [\"{0:0.0f}\".format(value) for value in train_cnf_matrix.flatten()]\n",
        "train_percentage = [\"{0:.2%}\".format(value) for value in train_cnf_matrix .flatten()/np.sum(train_cnf_matrix)]\n",
        "train_labels = [f\"{v1}\\n{v2}\\n{v3}\" for v1, v2, v3 in zip(group_names,train_counts,train_percentage)]\n",
        "train_labels = np.asarray(train_labels).reshape(2,2)\n",
        "plt.figure(figsize = (16,5))\n",
        "sns.heatmap(train_cnf_matrix, annot=train_labels, fmt='', cmap='coolwarm')\n",
        "plt.title('Confusion Matrix for Train Data (Random Forest Model)',fontsize=16);"
      ]
    },
    {
      "cell_type": "code",
      "execution_count": 66,
      "id": "ac98c3b2",
      "metadata": {
        "colab": {
          "base_uri": "https://localhost:8080/",
          "height": 338
        },
        "id": "ac98c3b2",
        "outputId": "c0f47c2a-f302-41fc-e4f5-17faee636154"
      },
      "outputs": [
        {
          "data": {
            "image/png": "[encoded data removed]",
            "text/plain": [
              "<Figure size 1152x360 with 2 Axes>"
            ]
          },
          "metadata": {},
          "output_type": "display_data"
        }
      ],
      "source": [
        "group_names = ['True Neg', 'False Pos', 'False Neg', 'True Pos']\n",
        "test_cnf_matrix = confusion_matrix(Y_test,pred_test)\n",
        "test_counts = [\"{0:0.0f}\".format(value) for value in test_cnf_matrix.flatten()]\n",
        "test_percentage = [\"{0:.2%}\".format(value) for value in test_cnf_matrix .flatten()/np.sum(test_cnf_matrix)]\n",
        "test_labels = [f\"{v1}\\n{v2}\\n{v3}\" for v1, v2, v3 in zip(group_names,test_counts,test_percentage)]\n",
        "test_labels = np.asarray(test_labels).reshape(2,2)\n",
        "plt.figure(figsize = (16,5))\n",
        "sns.heatmap(test_cnf_matrix, annot=test_labels, fmt='', cmap='icefire')\n",
        "plt.title('Confusion Matrix for Test Data (Random Forest Model)',fontsize=16);"
      ]
    },
    {
      "cell_type": "markdown",
      "id": "821b66ac",
      "metadata": {
        "id": "821b66ac"
      },
      "source": [
        "* To predict who will likely to have diabetes, we prefer algorithms that can score a high probability of finding out people who\n",
        "have the same characteristics and actually have diabetes later (TRUE POSITIVE). \n",
        "* Based on the severity of the illness, we may also prefer that the algorithm wrongly chooses some people who don’t get ill after all rather than miss the people who actually do get ill (FALSE POSITIVE). "
      ]
    },
    {
      "cell_type": "code",
      "execution_count": 67,
      "id": "f8939c6b",
      "metadata": {
        "colab": {
          "base_uri": "https://localhost:8080/"
        },
        "id": "f8939c6b",
        "outputId": "1b7f5209-dba5-4a58-d5ae-b48dfe8d6240"
      },
      "outputs": [
        {
          "name": "stdout",
          "output_type": "stream",
          "text": [
            "              precision    recall  f1-score   support\n",
            "\n",
            "           0       0.99      0.96      0.98       150\n",
            "           1       0.98      1.00      0.99       240\n",
            "\n",
            "    accuracy                           0.98       390\n",
            "   macro avg       0.98      0.98      0.98       390\n",
            "weighted avg       0.98      0.98      0.98       390\n",
            "\n"
          ]
        }
      ],
      "source": [
        "print(f\"{classification_report(Y_train,pred_train)}\")"
      ]
    },
    {
      "cell_type": "code",
      "execution_count": 68,
      "id": "0328e0ab",
      "metadata": {
        "colab": {
          "base_uri": "https://localhost:8080/"
        },
        "id": "0328e0ab",
        "outputId": "0508ae49-95f7-4dc5-86fb-1421cf48539a"
      },
      "outputs": [
        {
          "name": "stdout",
          "output_type": "stream",
          "text": [
            "              precision    recall  f1-score   support\n",
            "\n",
            "           0       0.96      0.94      0.95        50\n",
            "           1       0.96      0.97      0.97        80\n",
            "\n",
            "    accuracy                           0.96       130\n",
            "   macro avg       0.96      0.96      0.96       130\n",
            "weighted avg       0.96      0.96      0.96       130\n",
            "\n"
          ]
        }
      ],
      "source": [
        "print(f\"{classification_report(Y_test,pred_test)}\")"
      ]
    },
    {
      "cell_type": "markdown",
      "id": "550efd55",
      "metadata": {
        "id": "550efd55"
      },
      "source": [
        "# Making Prediction With New Input"
      ]
    },
    {
      "cell_type": "code",
      "execution_count": 69,
      "id": "017741aa",
      "metadata": {
        "id": "017741aa"
      },
      "outputs": [],
      "source": [
        "def predict(model, inputs):\n",
        "    input_df = pd.DataFrame([inputs])\n",
        "    pred = model.predict(input_df)[0]\n",
        "    if pred == 0:\n",
        "        print('It is predicted that this patient does not have diabetes.')\n",
        "    else: \n",
        "        print('It is predicted that this patient would have diabetes.')"
      ]
    },
    {
      "cell_type": "code",
      "execution_count": 70,
      "id": "9423a68b",
      "metadata": {
        "id": "9423a68b"
      },
      "outputs": [],
      "source": [
        "male_input = {'age':25, \n",
        "               'gender':'Male', \n",
        "               'polyuria':'No', \n",
        "               'polydipsia':'No', \n",
        "               'sudden weight loss':'No',   \n",
        "               'weakness':'No', \n",
        "               'polyphagia':'No', \n",
        "               'genital thrush':'No', \n",
        "               'visual blurring':'Yes',     \n",
        "               'itching':'No', \n",
        "               'irritability':'No', \n",
        "               'delayed healing':'No', \n",
        "               'partial paresis':'No',\n",
        "               'muscle stiffness':'Yes', \n",
        "               'alopecia':'No'}"
      ]
    },
    {
      "cell_type": "code",
      "execution_count": 71,
      "id": "8c32efc1",
      "metadata": {
        "colab": {
          "base_uri": "https://localhost:8080/"
        },
        "id": "8c32efc1",
        "outputId": "07721926-bfcb-4fe9-eb00-3d0169b892a5"
      },
      "outputs": [
        {
          "name": "stdout",
          "output_type": "stream",
          "text": [
            "It is predicted that this patient does not have diabetes.\n"
          ]
        }
      ],
      "source": [
        "predict(final_model, male_input)"
      ]
    },
    {
      "cell_type": "code",
      "execution_count": 72,
      "id": "98e6f363",
      "metadata": {
        "id": "98e6f363"
      },
      "outputs": [],
      "source": [
        "female_input = {'age':25, \n",
        "               'gender':'Female', \n",
        "               'polyuria':'No', \n",
        "               'polydipsia':'No', \n",
        "               'sudden weight loss':'No',   \n",
        "               'weakness':'No', \n",
        "               'polyphagia':'No', \n",
        "               'genital thrush':'No', \n",
        "               'visual blurring':'Yes',     \n",
        "               'itching':'No', \n",
        "               'irritability':'No', \n",
        "               'delayed healing':'No', \n",
        "               'partial paresis':'No',\n",
        "               'muscle stiffness':'Yes', \n",
        "               'alopecia':'No'}"
      ]
    },
    {
      "cell_type": "code",
      "execution_count": 73,
      "id": "cd95de23",
      "metadata": {
        "colab": {
          "base_uri": "https://localhost:8080/"
        },
        "id": "cd95de23",
        "outputId": "dd4aa582-159c-4e52-94f2-ee6e16180bfb"
      },
      "outputs": [
        {
          "name": "stdout",
          "output_type": "stream",
          "text": [
            "It is predicted that this patient would have diabetes.\n"
          ]
        }
      ],
      "source": [
        "predict(final_model, female_input)"
      ]
    },
    {
      "cell_type": "code",
      "execution_count": 55,
      "id": "-6FybnVAOc73",
      "metadata": {
        "id": "-6FybnVAOc73"
      },
      "outputs": [],
      "source": []
    }
  ],
  "metadata": {
    "accelerator": "GPU",
    "colab": {
      "provenance": []
    },
    "gpuClass": "standard",
    "kernelspec": {
      "display_name": "Python 3 (ipykernel)",
      "language": "python",
      "name": "python3"
    },
    "language_info": {
      "codemirror_mode": {
        "name": "ipython",
        "version": 3
      },
      "file_extension": ".py",
      "mimetype": "text/x-python",
      "name": "python",
      "nbconvert_exporter": "python",
      "pygments_lexer": "ipython3",
      "version": "3.9.7"
    }
  },
  "nbformat": 4,
  "nbformat_minor": 5
}
